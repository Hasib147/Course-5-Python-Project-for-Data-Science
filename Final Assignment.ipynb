{
 "cells": [
  {
   "cell_type": "markdown",
   "metadata": {},
   "source": [
    "<p style=\"text-align:center\">\n",
    "    <a href=\"https://skills.network/?utm_medium=Exinfluencer&utm_source=Exinfluencer&utm_content=000026UJ&utm_term=10006555&utm_id=NA-SkillsNetwork-Channel-SkillsNetworkCoursesIBMDeveloperSkillsNetworkPY0220ENSkillsNetwork900-2022-01-01\" target=\"_blank\">\n",
    "    <img src=\"https://cf-courses-data.s3.us.cloud-object-storage.appdomain.cloud/assets/logos/SN_web_lightmode.png\" width=\"200\" alt=\"Skills Network Logo\">\n",
    "    </a>\n",
    "</p>\n"
   ]
  },
  {
   "cell_type": "markdown",
   "metadata": {},
   "source": [
    "<h1>Extracting and Visualizing Stock Data</h1>\n",
    "<h2>Description</h2>\n"
   ]
  },
  {
   "cell_type": "markdown",
   "metadata": {},
   "source": [
    "Extracting essential data from a dataset and displaying it is a necessary part of data science; therefore individuals can make correct decisions based on the data. In this assignment, you will extract some stock data, you will then display this data in a graph.\n"
   ]
  },
  {
   "cell_type": "markdown",
   "metadata": {},
   "source": [
    "<h2>Table of Contents</h2>\n",
    "<div class=\"alert alert-block alert-info\" style=\"margin-top: 20px\">\n",
    "    <ul>\n",
    "        <li>Define a Function that Makes a Graph</li>\n",
    "        <li>Question 1: Use yfinance to Extract Stock Data</li>\n",
    "        <li>Question 2: Use Webscraping to Extract Tesla Revenue Data</li>\n",
    "        <li>Question 3: Use yfinance to Extract Stock Data</li>\n",
    "        <li>Question 4: Use Webscraping to Extract GME Revenue Data</li>\n",
    "        <li>Question 5: Plot Tesla Stock Graph</li>\n",
    "        <li>Question 6: Plot GameStop Stock Graph</li>\n",
    "    </ul>\n",
    "<p>\n",
    "    Estimated Time Needed: <strong>30 min</strong></p>\n",
    "</div>\n",
    "\n",
    "<hr>\n"
   ]
  },
  {
   "cell_type": "markdown",
   "metadata": {},
   "source": [
    "***Note***:- If you are working Locally using anaconda, please uncomment the following code and execute it.\n"
   ]
  },
  {
   "cell_type": "code",
   "execution_count": 26,
   "metadata": {},
   "outputs": [
    {
     "name": "stdout",
     "output_type": "stream",
     "text": [
      "Collecting plotly\n",
      "  Using cached plotly-5.22.0-py3-none-any.whl.metadata (7.1 kB)\n",
      "Requirement already satisfied: tenacity>=6.2.0 in c:\\users\\hasib\\anaconda3\\lib\\site-packages (from plotly) (8.2.2)\n",
      "Requirement already satisfied: packaging in c:\\users\\hasib\\anaconda3\\lib\\site-packages (from plotly) (23.1)\n",
      "Using cached plotly-5.22.0-py3-none-any.whl (16.4 MB)\n",
      "Installing collected packages: plotly\n",
      "Successfully installed plotly-5.22.0\n"
     ]
    },
    {
     "name": "stderr",
     "output_type": "stream",
     "text": [
      "WARNING: Ignoring invalid distribution ~lotly (C:\\Users\\Hasib\\anaconda3\\Lib\\site-packages)\n",
      "WARNING: Ignoring invalid distribution ~lotly (C:\\Users\\Hasib\\anaconda3\\Lib\\site-packages)\n"
     ]
    }
   ],
   "source": [
    "!pip install plotly"
   ]
  },
  {
   "cell_type": "code",
   "execution_count": 12,
   "metadata": {},
   "outputs": [
    {
     "name": "stdout",
     "output_type": "stream",
     "text": [
      "Collecting yfinance==0.2.38\n",
      "  Downloading yfinance-0.2.38-py2.py3-none-any.whl.metadata (11 kB)\n",
      "Requirement already satisfied: pandas>=1.3.0 in c:\\users\\hasib\\anaconda3\\lib\\site-packages (from yfinance==0.2.38) (2.0.3)\n",
      "Requirement already satisfied: numpy>=1.16.5 in c:\\users\\hasib\\anaconda3\\lib\\site-packages (from yfinance==0.2.38) (1.26.4)\n",
      "Collecting requests>=2.31 (from yfinance==0.2.38)\n",
      "  Downloading requests-2.32.3-py3-none-any.whl.metadata (4.6 kB)\n",
      "Requirement already satisfied: multitasking>=0.0.7 in c:\\users\\hasib\\anaconda3\\lib\\site-packages (from yfinance==0.2.38) (0.0.11)\n",
      "Requirement already satisfied: lxml>=4.9.1 in c:\\users\\hasib\\anaconda3\\lib\\site-packages (from yfinance==0.2.38) (4.9.3)\n",
      "Requirement already satisfied: appdirs>=1.4.4 in c:\\users\\hasib\\anaconda3\\lib\\site-packages (from yfinance==0.2.38) (1.4.4)\n",
      "Requirement already satisfied: pytz>=2022.5 in c:\\users\\hasib\\anaconda3\\lib\\site-packages (from yfinance==0.2.38) (2023.3.post1)\n",
      "Requirement already satisfied: frozendict>=2.3.4 in c:\\users\\hasib\\anaconda3\\lib\\site-packages (from yfinance==0.2.38) (2.4.2)\n",
      "Collecting peewee>=3.16.2 (from yfinance==0.2.38)\n",
      "  Downloading peewee-3.17.5.tar.gz (3.0 MB)\n",
      "     ---------------------------------------- 0.0/3.0 MB ? eta -:--:--\n",
      "     ---------------------------------------- 0.0/3.0 MB 640.0 kB/s eta 0:00:05\n",
      "      --------------------------------------- 0.1/3.0 MB 812.7 kB/s eta 0:00:04\n",
      "      --------------------------------------- 0.1/3.0 MB 812.7 kB/s eta 0:00:04\n",
      "      --------------------------------------- 0.1/3.0 MB 812.7 kB/s eta 0:00:04\n",
      "     -- ------------------------------------- 0.2/3.0 MB 701.4 kB/s eta 0:00:04\n",
      "     -- ------------------------------------- 0.2/3.0 MB 778.2 kB/s eta 0:00:04\n",
      "     ----- ---------------------------------- 0.4/3.0 MB 1.3 MB/s eta 0:00:02\n",
      "     ------ --------------------------------- 0.5/3.0 MB 1.5 MB/s eta 0:00:02\n",
      "     ------- -------------------------------- 0.6/3.0 MB 1.5 MB/s eta 0:00:02\n",
      "     ---------- ----------------------------- 0.8/3.0 MB 1.7 MB/s eta 0:00:02\n",
      "     ------------- -------------------------- 1.0/3.0 MB 2.0 MB/s eta 0:00:01\n",
      "     --------------- ------------------------ 1.2/3.0 MB 2.2 MB/s eta 0:00:01\n",
      "     --------------- ------------------------ 1.2/3.0 MB 2.2 MB/s eta 0:00:01\n",
      "     --------------- ------------------------ 1.2/3.0 MB 2.2 MB/s eta 0:00:01\n",
      "     ---------------- ----------------------- 1.2/3.0 MB 1.9 MB/s eta 0:00:01\n",
      "     ----------------- ---------------------- 1.3/3.0 MB 1.8 MB/s eta 0:00:01\n",
      "     -------------------- ------------------- 1.5/3.0 MB 2.0 MB/s eta 0:00:01\n",
      "     --------------------- ------------------ 1.6/3.0 MB 2.0 MB/s eta 0:00:01\n",
      "     ------------------------ --------------- 1.8/3.0 MB 2.1 MB/s eta 0:00:01\n",
      "     -------------------------- ------------- 2.0/3.0 MB 2.2 MB/s eta 0:00:01\n",
      "     ---------------------------- ----------- 2.1/3.0 MB 2.2 MB/s eta 0:00:01\n",
      "     ------------------------------- -------- 2.3/3.0 MB 2.3 MB/s eta 0:00:01\n",
      "     ------------------------------- -------- 2.3/3.0 MB 2.3 MB/s eta 0:00:01\n",
      "     ------------------------------- -------- 2.3/3.0 MB 2.3 MB/s eta 0:00:01\n",
      "     ------------------------------- -------- 2.3/3.0 MB 2.3 MB/s eta 0:00:01\n",
      "     ------------------------------- -------- 2.3/3.0 MB 2.3 MB/s eta 0:00:01\n",
      "     ------------------------------- -------- 2.3/3.0 MB 2.3 MB/s eta 0:00:01\n",
      "     ------------------------------- -------- 2.3/3.0 MB 2.3 MB/s eta 0:00:01\n",
      "     ------------------------------- -------- 2.3/3.0 MB 2.3 MB/s eta 0:00:01\n",
      "     ------------------------------- -------- 2.3/3.0 MB 2.3 MB/s eta 0:00:01\n",
      "     ------------------------------- -------- 2.3/3.0 MB 2.3 MB/s eta 0:00:01\n",
      "     ------------------------------- -------- 2.3/3.0 MB 2.3 MB/s eta 0:00:01\n",
      "     ------------------------------- -------- 2.3/3.0 MB 2.3 MB/s eta 0:00:01\n",
      "     ------------------------------- -------- 2.3/3.0 MB 2.3 MB/s eta 0:00:01\n",
      "     ------------------------------- -------- 2.3/3.0 MB 2.3 MB/s eta 0:00:01\n",
      "     ------------------------------- -------- 2.3/3.0 MB 2.3 MB/s eta 0:00:01\n",
      "     ------------------------------- -------- 2.4/3.0 MB 1.4 MB/s eta 0:00:01\n",
      "     -------------------------------- ------- 2.4/3.0 MB 1.4 MB/s eta 0:00:01\n",
      "     -------------------------------- ------- 2.4/3.0 MB 1.3 MB/s eta 0:00:01\n",
      "     -------------------------------- ------- 2.4/3.0 MB 1.3 MB/s eta 0:00:01\n",
      "     -------------------------------- ------- 2.4/3.0 MB 1.3 MB/s eta 0:00:01\n",
      "     -------------------------------- ------- 2.4/3.0 MB 1.3 MB/s eta 0:00:01\n",
      "     -------------------------------- ------- 2.4/3.0 MB 1.3 MB/s eta 0:00:01\n",
      "     -------------------------------- ------- 2.4/3.0 MB 1.2 MB/s eta 0:00:01\n",
      "     -------------------------------- ------- 2.4/3.0 MB 1.2 MB/s eta 0:00:01\n",
      "     -------------------------------- ------- 2.4/3.0 MB 1.2 MB/s eta 0:00:01\n",
      "     -------------------------------- ------- 2.4/3.0 MB 1.2 MB/s eta 0:00:01\n",
      "     -------------------------------- ------- 2.4/3.0 MB 1.2 MB/s eta 0:00:01\n",
      "     --------------------------------- ------ 2.5/3.0 MB 1.1 MB/s eta 0:00:01\n",
      "     --------------------------------- ------ 2.5/3.0 MB 1.1 MB/s eta 0:00:01\n",
      "     --------------------------------- ------ 2.5/3.0 MB 1.1 MB/s eta 0:00:01\n",
      "     --------------------------------- ------ 2.5/3.0 MB 1.0 MB/s eta 0:00:01\n",
      "     --------------------------------- ------ 2.5/3.0 MB 1.0 MB/s eta 0:00:01\n",
      "     ---------------------------------- ----- 2.5/3.0 MB 1.0 MB/s eta 0:00:01\n",
      "     ---------------------------------- ----- 2.6/3.0 MB 1.0 MB/s eta 0:00:01\n",
      "     ----------------------------------- ---- 2.6/3.0 MB 1.0 MB/s eta 0:00:01\n",
      "     ------------------------------------ --- 2.7/3.0 MB 1.0 MB/s eta 0:00:01\n",
      "     ------------------------------------- -- 2.8/3.0 MB 1.0 MB/s eta 0:00:01\n",
      "     ------------------------------------- -- 2.8/3.0 MB 1.0 MB/s eta 0:00:01\n",
      "     ------------------------------------- -- 2.8/3.0 MB 1.0 MB/s eta 0:00:01\n",
      "     ------------------------------------- -- 2.8/3.0 MB 1.0 MB/s eta 0:00:01\n",
      "     -------------------------------------- - 2.8/3.0 MB 992.1 kB/s eta 0:00:01\n",
      "     -------------------------------------- - 2.8/3.0 MB 981.1 kB/s eta 0:00:01\n",
      "     -------------------------------------- - 2.9/3.0 MB 982.8 kB/s eta 0:00:01\n",
      "     -------------------------------------- - 2.9/3.0 MB 982.8 kB/s eta 0:00:01\n",
      "     -------------------------------------- - 2.9/3.0 MB 982.8 kB/s eta 0:00:01\n",
      "     ---------------------------------------  2.9/3.0 MB 947.7 kB/s eta 0:00:01\n",
      "     ---------------------------------------  2.9/3.0 MB 939.9 kB/s eta 0:00:01\n",
      "     ---------------------------------------  2.9/3.0 MB 924.4 kB/s eta 0:00:01\n",
      "     ---------------------------------------  2.9/3.0 MB 921.9 kB/s eta 0:00:01\n",
      "     ---------------------------------------- 3.0/3.0 MB 909.9 kB/s eta 0:00:00\n",
      "  Installing build dependencies: started\n",
      "  Installing build dependencies: finished with status 'done'\n",
      "  Getting requirements to build wheel: started\n",
      "  Getting requirements to build wheel: finished with status 'done'\n",
      "  Preparing metadata (pyproject.toml): started\n",
      "  Preparing metadata (pyproject.toml): finished with status 'done'\n",
      "Collecting beautifulsoup4>=4.11.1 (from yfinance==0.2.38)\n",
      "  Downloading beautifulsoup4-4.12.3-py3-none-any.whl.metadata (3.8 kB)\n",
      "Requirement already satisfied: html5lib>=1.1 in c:\\users\\hasib\\anaconda3\\lib\\site-packages (from yfinance==0.2.38) (1.1)\n",
      "Requirement already satisfied: soupsieve>1.2 in c:\\users\\hasib\\anaconda3\\lib\\site-packages (from beautifulsoup4>=4.11.1->yfinance==0.2.38) (2.5)\n",
      "Requirement already satisfied: six>=1.9 in c:\\users\\hasib\\anaconda3\\lib\\site-packages (from html5lib>=1.1->yfinance==0.2.38) (1.16.0)\n",
      "Requirement already satisfied: webencodings in c:\\users\\hasib\\anaconda3\\lib\\site-packages (from html5lib>=1.1->yfinance==0.2.38) (0.5.1)\n",
      "Requirement already satisfied: python-dateutil>=2.8.2 in c:\\users\\hasib\\anaconda3\\lib\\site-packages (from pandas>=1.3.0->yfinance==0.2.38) (2.8.2)\n",
      "Requirement already satisfied: tzdata>=2022.1 in c:\\users\\hasib\\anaconda3\\lib\\site-packages (from pandas>=1.3.0->yfinance==0.2.38) (2023.3)\n",
      "Requirement already satisfied: charset-normalizer<4,>=2 in c:\\users\\hasib\\anaconda3\\lib\\site-packages (from requests>=2.31->yfinance==0.2.38) (2.0.4)\n",
      "Requirement already satisfied: idna<4,>=2.5 in c:\\users\\hasib\\anaconda3\\lib\\site-packages (from requests>=2.31->yfinance==0.2.38) (3.4)\n",
      "Requirement already satisfied: urllib3<3,>=1.21.1 in c:\\users\\hasib\\anaconda3\\lib\\site-packages (from requests>=2.31->yfinance==0.2.38) (1.26.19)\n",
      "Requirement already satisfied: certifi>=2017.4.17 in c:\\users\\hasib\\anaconda3\\lib\\site-packages (from requests>=2.31->yfinance==0.2.38) (2023.11.17)\n",
      "Downloading yfinance-0.2.38-py2.py3-none-any.whl (72 kB)\n",
      "   ---------------------------------------- 0.0/73.0 kB ? eta -:--:--\n",
      "   ---------------------- ----------------- 41.0/73.0 kB 991.0 kB/s eta 0:00:01\n",
      "   ---------------------------------------- 73.0/73.0 kB 996.1 kB/s eta 0:00:00\n",
      "Downloading beautifulsoup4-4.12.3-py3-none-any.whl (147 kB)\n",
      "   ---------------------------------------- 0.0/147.9 kB ? eta -:--:--\n",
      "   ----------- ---------------------------- 41.0/147.9 kB 2.0 MB/s eta 0:00:01\n",
      "   ------------------------------ --------- 112.6/147.9 kB 1.7 MB/s eta 0:00:01\n",
      "   ------------------------------ --------- 112.6/147.9 kB 1.7 MB/s eta 0:00:01\n",
      "   ------------------------------ --------- 112.6/147.9 kB 1.7 MB/s eta 0:00:01\n",
      "   ------------------------------------ - 143.4/147.9 kB 711.9 kB/s eta 0:00:01\n",
      "   -------------------------------------- 147.9/147.9 kB 628.7 kB/s eta 0:00:00\n",
      "Downloading requests-2.32.3-py3-none-any.whl (64 kB)\n",
      "   ---------------------------------------- 0.0/64.9 kB ? eta -:--:--\n",
      "   ---------------------------------------- 0.0/64.9 kB ? eta -:--:--\n",
      "   ------ --------------------------------- 10.2/64.9 kB ? eta -:--:--\n",
      "   ------------------------- -------------- 41.0/64.9 kB 393.8 kB/s eta 0:00:01\n",
      "   ---------------------------------------- 64.9/64.9 kB 501.7 kB/s eta 0:00:00\n",
      "Building wheels for collected packages: peewee\n",
      "  Building wheel for peewee (pyproject.toml): started\n",
      "  Building wheel for peewee (pyproject.toml): finished with status 'done'\n",
      "  Created wheel for peewee: filename=peewee-3.17.5-py3-none-any.whl size=138681 sha256=faa5684481e93318a2a814e67bf54de1da71f165afe51d0dd9a4f9381a6dfad6\n",
      "  Stored in directory: c:\\users\\hasib\\appdata\\local\\pip\\cache\\wheels\\d2\\cb\\9c\\c300d7bf782e07f1658c306743d5e30af7e4834001e4064a96\n",
      "Successfully built peewee\n",
      "Installing collected packages: peewee, requests, beautifulsoup4, yfinance\n",
      "  Attempting uninstall: requests\n",
      "    Found existing installation: requests 2.26.0\n",
      "    Uninstalling requests-2.26.0:\n",
      "      Successfully uninstalled requests-2.26.0\n",
      "  Attempting uninstall: beautifulsoup4\n",
      "    Found existing installation: beautifulsoup4 4.10.0\n",
      "    Uninstalling beautifulsoup4-4.10.0:\n",
      "      Successfully uninstalled beautifulsoup4-4.10.0\n",
      "  Attempting uninstall: yfinance\n",
      "    Found existing installation: yfinance 0.2.4\n",
      "    Uninstalling yfinance-0.2.4:\n",
      "      Successfully uninstalled yfinance-0.2.4\n",
      "Successfully installed beautifulsoup4-4.12.3 peewee-3.17.5 requests-2.32.3 yfinance-0.2.38\n"
     ]
    },
    {
     "name": "stderr",
     "output_type": "stream",
     "text": [
      "WARNING: Ignoring invalid distribution ~lotly (C:\\Users\\Hasib\\anaconda3\\Lib\\site-packages)\n",
      "WARNING: Ignoring invalid distribution ~lotly (C:\\Users\\Hasib\\anaconda3\\Lib\\site-packages)\n",
      "ERROR: pip's dependency resolver does not currently take into account all the packages that are installed. This behaviour is the source of the following dependency conflicts.\n",
      "conda-repo-cli 1.0.75 requires requests_mock, which is not installed.\n",
      "conda-repo-cli 1.0.75 requires clyent==1.2.1, but you have clyent 1.2.2 which is incompatible.\n",
      "conda-repo-cli 1.0.75 requires requests==2.31.0, but you have requests 2.32.3 which is incompatible.\n"
     ]
    },
    {
     "name": "stdout",
     "output_type": "stream",
     "text": [
      "Collecting pandas==2.2.2\n",
      "  Downloading pandas-2.2.2-cp311-cp311-win_amd64.whl.metadata (19 kB)\n",
      "Requirement already satisfied: numpy>=1.23.2 in c:\\users\\hasib\\anaconda3\\lib\\site-packages (from pandas==2.2.2) (1.26.4)\n",
      "Requirement already satisfied: python-dateutil>=2.8.2 in c:\\users\\hasib\\anaconda3\\lib\\site-packages (from pandas==2.2.2) (2.8.2)\n",
      "Requirement already satisfied: pytz>=2020.1 in c:\\users\\hasib\\anaconda3\\lib\\site-packages (from pandas==2.2.2) (2023.3.post1)\n",
      "Requirement already satisfied: tzdata>=2022.7 in c:\\users\\hasib\\anaconda3\\lib\\site-packages (from pandas==2.2.2) (2023.3)\n",
      "Requirement already satisfied: six>=1.5 in c:\\users\\hasib\\anaconda3\\lib\\site-packages (from python-dateutil>=2.8.2->pandas==2.2.2) (1.16.0)\n",
      "Downloading pandas-2.2.2-cp311-cp311-win_amd64.whl (11.6 MB)\n",
      "   ---------------------------------------- 0.0/11.6 MB ? eta -:--:--\n",
      "   ---------------------------------------- 0.0/11.6 MB ? eta -:--:--\n",
      "   ---------------------------------------- 0.0/11.6 MB ? eta -:--:--\n",
      "   ---------------------------------------- 0.0/11.6 MB ? eta -:--:--\n",
      "   ---------------------------------------- 0.0/11.6 MB 262.6 kB/s eta 0:00:45\n",
      "   ---------------------------------------- 0.1/11.6 MB 393.8 kB/s eta 0:00:30\n",
      "   ---------------------------------------- 0.1/11.6 MB 554.9 kB/s eta 0:00:21\n",
      "    --------------------------------------- 0.2/11.6 MB 860.2 kB/s eta 0:00:14\n",
      "   - -------------------------------------- 0.3/11.6 MB 1.0 MB/s eta 0:00:12\n",
      "   - -------------------------------------- 0.4/11.6 MB 1.1 MB/s eta 0:00:10\n",
      "   - -------------------------------------- 0.5/11.6 MB 1.2 MB/s eta 0:00:10\n",
      "   -- ------------------------------------- 0.6/11.6 MB 1.3 MB/s eta 0:00:09\n",
      "   -- ------------------------------------- 0.6/11.6 MB 1.4 MB/s eta 0:00:09\n",
      "   -- ------------------------------------- 0.6/11.6 MB 1.4 MB/s eta 0:00:09\n",
      "   -- ------------------------------------- 0.6/11.6 MB 1.1 MB/s eta 0:00:10\n",
      "   -- ------------------------------------- 0.6/11.6 MB 1.1 MB/s eta 0:00:10\n",
      "   -- ------------------------------------- 0.7/11.6 MB 1.0 MB/s eta 0:00:11\n",
      "   -- ------------------------------------- 0.8/11.6 MB 1.1 MB/s eta 0:00:10\n",
      "   --- ------------------------------------ 0.9/11.6 MB 1.2 MB/s eta 0:00:10\n",
      "   --- ------------------------------------ 1.0/11.6 MB 1.2 MB/s eta 0:00:09\n",
      "   --- ------------------------------------ 1.1/11.6 MB 1.3 MB/s eta 0:00:09\n",
      "   --- ------------------------------------ 1.1/11.6 MB 1.3 MB/s eta 0:00:09\n",
      "   --- ------------------------------------ 1.1/11.6 MB 1.3 MB/s eta 0:00:09\n",
      "   --- ------------------------------------ 1.1/11.6 MB 1.1 MB/s eta 0:00:10\n",
      "   --- ------------------------------------ 1.1/11.6 MB 1.1 MB/s eta 0:00:10\n",
      "   ---- ----------------------------------- 1.2/11.6 MB 1.1 MB/s eta 0:00:10\n",
      "   ---- ----------------------------------- 1.3/11.6 MB 1.1 MB/s eta 0:00:10\n",
      "   ---- ----------------------------------- 1.3/11.6 MB 1.1 MB/s eta 0:00:10\n",
      "   ---- ----------------------------------- 1.4/11.6 MB 1.2 MB/s eta 0:00:09\n",
      "   ----- ---------------------------------- 1.5/11.6 MB 1.2 MB/s eta 0:00:09\n",
      "   ----- ---------------------------------- 1.6/11.6 MB 1.2 MB/s eta 0:00:08\n",
      "   ----- ---------------------------------- 1.7/11.6 MB 1.3 MB/s eta 0:00:08\n",
      "   ------ --------------------------------- 1.8/11.6 MB 1.3 MB/s eta 0:00:08\n",
      "   ------ --------------------------------- 1.9/11.6 MB 1.3 MB/s eta 0:00:08\n",
      "   ------- -------------------------------- 2.1/11.6 MB 1.4 MB/s eta 0:00:07\n",
      "   ------- -------------------------------- 2.3/11.6 MB 1.5 MB/s eta 0:00:07\n",
      "   -------- ------------------------------- 2.4/11.6 MB 1.5 MB/s eta 0:00:07\n",
      "   -------- ------------------------------- 2.4/11.6 MB 1.5 MB/s eta 0:00:07\n",
      "   -------- ------------------------------- 2.4/11.6 MB 1.5 MB/s eta 0:00:07\n",
      "   -------- ------------------------------- 2.4/11.6 MB 1.5 MB/s eta 0:00:07\n",
      "   -------- ------------------------------- 2.4/11.6 MB 1.5 MB/s eta 0:00:07\n",
      "   -------- ------------------------------- 2.4/11.6 MB 1.5 MB/s eta 0:00:07\n",
      "   -------- ------------------------------- 2.4/11.6 MB 1.5 MB/s eta 0:00:07\n",
      "   -------- ------------------------------- 2.4/11.6 MB 1.5 MB/s eta 0:00:07\n",
      "   -------- ------------------------------- 2.4/11.6 MB 1.5 MB/s eta 0:00:07\n",
      "   -------- ------------------------------- 2.4/11.6 MB 1.2 MB/s eta 0:00:08\n",
      "   -------- ------------------------------- 2.4/11.6 MB 1.2 MB/s eta 0:00:08\n",
      "   -------- ------------------------------- 2.4/11.6 MB 1.2 MB/s eta 0:00:08\n",
      "   -------- ------------------------------- 2.4/11.6 MB 1.2 MB/s eta 0:00:08\n",
      "   -------- ------------------------------- 2.4/11.6 MB 1.1 MB/s eta 0:00:09\n",
      "   -------- ------------------------------- 2.5/11.6 MB 1.1 MB/s eta 0:00:09\n",
      "   -------- ------------------------------- 2.5/11.6 MB 1.1 MB/s eta 0:00:09\n",
      "   -------- ------------------------------- 2.5/11.6 MB 1.1 MB/s eta 0:00:09\n",
      "   -------- ------------------------------- 2.5/11.6 MB 1.1 MB/s eta 0:00:09\n",
      "   -------- ------------------------------- 2.5/11.6 MB 1.1 MB/s eta 0:00:09\n",
      "   -------- ------------------------------- 2.6/11.6 MB 1.1 MB/s eta 0:00:09\n",
      "   --------- ------------------------------ 2.6/11.6 MB 1.0 MB/s eta 0:00:09\n",
      "   --------- ------------------------------ 2.7/11.6 MB 1.1 MB/s eta 0:00:09\n",
      "   --------- ------------------------------ 2.8/11.6 MB 1.1 MB/s eta 0:00:09\n",
      "   --------- ------------------------------ 2.9/11.6 MB 1.1 MB/s eta 0:00:08\n",
      "   ---------- ----------------------------- 3.0/11.6 MB 1.1 MB/s eta 0:00:08\n",
      "   ---------- ----------------------------- 3.1/11.6 MB 1.1 MB/s eta 0:00:08\n",
      "   ----------- ---------------------------- 3.3/11.6 MB 1.2 MB/s eta 0:00:08\n",
      "   ----------- ---------------------------- 3.4/11.6 MB 1.2 MB/s eta 0:00:07\n",
      "   ------------ --------------------------- 3.5/11.6 MB 1.2 MB/s eta 0:00:07\n",
      "   ------------ --------------------------- 3.5/11.6 MB 1.2 MB/s eta 0:00:07\n",
      "   ------------ --------------------------- 3.6/11.6 MB 1.2 MB/s eta 0:00:07\n",
      "   ------------ --------------------------- 3.6/11.6 MB 1.2 MB/s eta 0:00:07\n",
      "   ------------ --------------------------- 3.7/11.6 MB 1.2 MB/s eta 0:00:07\n",
      "   ------------ --------------------------- 3.8/11.6 MB 1.2 MB/s eta 0:00:07\n",
      "   ------------ --------------------------- 3.8/11.6 MB 1.2 MB/s eta 0:00:07\n",
      "   ------------ --------------------------- 3.8/11.6 MB 1.2 MB/s eta 0:00:07\n",
      "   ------------- -------------------------- 3.8/11.6 MB 1.2 MB/s eta 0:00:07\n",
      "   ------------- -------------------------- 3.8/11.6 MB 1.2 MB/s eta 0:00:07\n",
      "   ------------- -------------------------- 3.9/11.6 MB 1.2 MB/s eta 0:00:07\n",
      "   ------------- -------------------------- 4.0/11.6 MB 1.2 MB/s eta 0:00:07\n",
      "   -------------- ------------------------- 4.1/11.6 MB 1.2 MB/s eta 0:00:07\n",
      "   -------------- ------------------------- 4.2/11.6 MB 1.2 MB/s eta 0:00:07\n",
      "   -------------- ------------------------- 4.3/11.6 MB 1.2 MB/s eta 0:00:07\n",
      "   -------------- ------------------------- 4.3/11.6 MB 1.2 MB/s eta 0:00:07\n",
      "   -------------- ------------------------- 4.3/11.6 MB 1.2 MB/s eta 0:00:07\n",
      "   -------------- ------------------------- 4.3/11.6 MB 1.2 MB/s eta 0:00:07\n",
      "   -------------- ------------------------- 4.4/11.6 MB 1.2 MB/s eta 0:00:07\n",
      "   --------------- ------------------------ 4.4/11.6 MB 1.2 MB/s eta 0:00:07\n",
      "   --------------- ------------------------ 4.5/11.6 MB 1.2 MB/s eta 0:00:07\n",
      "   --------------- ------------------------ 4.5/11.6 MB 1.2 MB/s eta 0:00:07\n",
      "   --------------- ------------------------ 4.6/11.6 MB 1.2 MB/s eta 0:00:06\n",
      "   ---------------- ----------------------- 4.7/11.6 MB 1.2 MB/s eta 0:00:06\n",
      "   ---------------- ----------------------- 4.7/11.6 MB 1.2 MB/s eta 0:00:06\n",
      "   ---------------- ----------------------- 4.7/11.6 MB 1.2 MB/s eta 0:00:06\n",
      "   ---------------- ----------------------- 4.8/11.6 MB 1.2 MB/s eta 0:00:06\n",
      "   ---------------- ----------------------- 4.8/11.6 MB 1.2 MB/s eta 0:00:06\n",
      "   ---------------- ----------------------- 4.8/11.6 MB 1.1 MB/s eta 0:00:06\n",
      "   ---------------- ----------------------- 4.9/11.6 MB 1.2 MB/s eta 0:00:06\n",
      "   ----------------- ---------------------- 5.0/11.6 MB 1.2 MB/s eta 0:00:06\n",
      "   ----------------- ---------------------- 5.1/11.6 MB 1.2 MB/s eta 0:00:06\n",
      "   ----------------- ---------------------- 5.2/11.6 MB 1.2 MB/s eta 0:00:06\n",
      "   ------------------ --------------------- 5.3/11.6 MB 1.2 MB/s eta 0:00:06\n",
      "   ------------------ --------------------- 5.5/11.6 MB 1.2 MB/s eta 0:00:06\n",
      "   ------------------- -------------------- 5.6/11.6 MB 1.2 MB/s eta 0:00:05\n",
      "   ------------------- -------------------- 5.7/11.6 MB 1.3 MB/s eta 0:00:05\n",
      "   ------------------- -------------------- 5.7/11.6 MB 1.3 MB/s eta 0:00:05\n",
      "   ------------------- -------------------- 5.7/11.6 MB 1.3 MB/s eta 0:00:05\n",
      "   ------------------- -------------------- 5.8/11.6 MB 1.2 MB/s eta 0:00:05\n",
      "   ------------------- -------------------- 5.8/11.6 MB 1.2 MB/s eta 0:00:05\n",
      "   -------------------- ------------------- 5.9/11.6 MB 1.2 MB/s eta 0:00:05\n",
      "   -------------------- ------------------- 5.9/11.6 MB 1.2 MB/s eta 0:00:05\n",
      "   -------------------- ------------------- 5.9/11.6 MB 1.2 MB/s eta 0:00:05\n",
      "   -------------------- ------------------- 5.9/11.6 MB 1.2 MB/s eta 0:00:05\n",
      "   -------------------- ------------------- 6.0/11.6 MB 1.2 MB/s eta 0:00:05\n",
      "   -------------------- ------------------- 6.0/11.6 MB 1.2 MB/s eta 0:00:05\n",
      "   -------------------- ------------------- 6.1/11.6 MB 1.2 MB/s eta 0:00:05\n",
      "   --------------------- ------------------ 6.2/11.6 MB 1.2 MB/s eta 0:00:05\n",
      "   --------------------- ------------------ 6.2/11.6 MB 1.2 MB/s eta 0:00:05\n",
      "   --------------------- ------------------ 6.3/11.6 MB 1.2 MB/s eta 0:00:05\n",
      "   ---------------------- ----------------- 6.4/11.6 MB 1.2 MB/s eta 0:00:05\n",
      "   ---------------------- ----------------- 6.6/11.6 MB 1.2 MB/s eta 0:00:05\n",
      "   ----------------------- ---------------- 6.7/11.6 MB 1.3 MB/s eta 0:00:04\n",
      "   ----------------------- ---------------- 6.8/11.6 MB 1.3 MB/s eta 0:00:04\n",
      "   ----------------------- ---------------- 7.0/11.6 MB 1.3 MB/s eta 0:00:04\n",
      "   ------------------------ --------------- 7.1/11.6 MB 1.3 MB/s eta 0:00:04\n",
      "   ------------------------ --------------- 7.3/11.6 MB 1.3 MB/s eta 0:00:04\n",
      "   ------------------------- -------------- 7.5/11.6 MB 1.3 MB/s eta 0:00:04\n",
      "   -------------------------- ------------- 7.7/11.6 MB 1.4 MB/s eta 0:00:03\n",
      "   -------------------------- ------------- 7.8/11.6 MB 1.4 MB/s eta 0:00:03\n",
      "   --------------------------- ------------ 8.1/11.6 MB 1.4 MB/s eta 0:00:03\n",
      "   ---------------------------- ----------- 8.3/11.6 MB 1.4 MB/s eta 0:00:03\n",
      "   ----------------------------- ---------- 8.5/11.6 MB 1.5 MB/s eta 0:00:03\n",
      "   ----------------------------- ---------- 8.7/11.6 MB 1.5 MB/s eta 0:00:02\n",
      "   ------------------------------ --------- 9.0/11.6 MB 1.5 MB/s eta 0:00:02\n",
      "   ------------------------------- -------- 9.2/11.6 MB 1.5 MB/s eta 0:00:02\n",
      "   -------------------------------- ------- 9.5/11.6 MB 1.6 MB/s eta 0:00:02\n",
      "   --------------------------------- ------ 9.7/11.6 MB 1.6 MB/s eta 0:00:02\n",
      "   ---------------------------------- ----- 10.0/11.6 MB 1.6 MB/s eta 0:00:02\n",
      "   ---------------------------------- ----- 10.2/11.6 MB 1.7 MB/s eta 0:00:01\n",
      "   ----------------------------------- ---- 10.5/11.6 MB 1.7 MB/s eta 0:00:01\n",
      "   ------------------------------------- -- 10.8/11.6 MB 1.8 MB/s eta 0:00:01\n",
      "   ------------------------------------- -- 11.0/11.6 MB 1.8 MB/s eta 0:00:01\n",
      "   ---------------------------------------  11.3/11.6 MB 1.9 MB/s eta 0:00:01\n",
      "   ---------------------------------------  11.5/11.6 MB 2.0 MB/s eta 0:00:01\n",
      "   ---------------------------------------  11.6/11.6 MB 2.0 MB/s eta 0:00:01\n",
      "   ---------------------------------------- 11.6/11.6 MB 2.0 MB/s eta 0:00:00\n",
      "Installing collected packages: pandas\n",
      "  Attempting uninstall: pandas\n",
      "    Found existing installation: pandas 2.0.3\n",
      "    Uninstalling pandas-2.0.3:\n",
      "      Successfully uninstalled pandas-2.0.3\n",
      "Successfully installed pandas-2.2.2\n"
     ]
    },
    {
     "name": "stderr",
     "output_type": "stream",
     "text": [
      "WARNING: Ignoring invalid distribution ~lotly (C:\\Users\\Hasib\\anaconda3\\Lib\\site-packages)\n",
      "WARNING: Ignoring invalid distribution ~lotly (C:\\Users\\Hasib\\anaconda3\\Lib\\site-packages)\n"
     ]
    },
    {
     "name": "stdout",
     "output_type": "stream",
     "text": [
      "Requirement already satisfied: nbformat in c:\\users\\hasib\\anaconda3\\lib\\site-packages (5.9.2)\n",
      "Requirement already satisfied: fastjsonschema in c:\\users\\hasib\\anaconda3\\lib\\site-packages (from nbformat) (2.16.2)\n",
      "Requirement already satisfied: jsonschema>=2.6 in c:\\users\\hasib\\anaconda3\\lib\\site-packages (from nbformat) (4.19.2)\n",
      "Requirement already satisfied: jupyter-core in c:\\users\\hasib\\anaconda3\\lib\\site-packages (from nbformat) (5.5.0)\n",
      "Requirement already satisfied: traitlets>=5.1 in c:\\users\\hasib\\anaconda3\\lib\\site-packages (from nbformat) (5.7.1)\n",
      "Requirement already satisfied: attrs>=22.2.0 in c:\\users\\hasib\\anaconda3\\lib\\site-packages (from jsonschema>=2.6->nbformat) (23.1.0)\n",
      "Requirement already satisfied: jsonschema-specifications>=2023.03.6 in c:\\users\\hasib\\anaconda3\\lib\\site-packages (from jsonschema>=2.6->nbformat) (2023.7.1)\n",
      "Requirement already satisfied: referencing>=0.28.4 in c:\\users\\hasib\\anaconda3\\lib\\site-packages (from jsonschema>=2.6->nbformat) (0.30.2)\n",
      "Requirement already satisfied: rpds-py>=0.7.1 in c:\\users\\hasib\\anaconda3\\lib\\site-packages (from jsonschema>=2.6->nbformat) (0.10.6)\n",
      "Requirement already satisfied: platformdirs>=2.5 in c:\\users\\hasib\\anaconda3\\lib\\site-packages (from jupyter-core->nbformat) (3.10.0)\n",
      "Requirement already satisfied: pywin32>=300 in c:\\users\\hasib\\anaconda3\\lib\\site-packages (from jupyter-core->nbformat) (305.1)\n"
     ]
    },
    {
     "name": "stderr",
     "output_type": "stream",
     "text": [
      "WARNING: Ignoring invalid distribution ~lotly (C:\\Users\\Hasib\\anaconda3\\Lib\\site-packages)\n",
      "WARNING: Ignoring invalid distribution ~lotly (C:\\Users\\Hasib\\anaconda3\\Lib\\site-packages)\n"
     ]
    }
   ],
   "source": [
    "!pip install yfinance==0.2.38\n",
    "!pip install pandas==2.2.2\n",
    "!pip install nbformat"
   ]
  },
  {
   "cell_type": "code",
   "execution_count": 28,
   "metadata": {},
   "outputs": [
    {
     "name": "stdout",
     "output_type": "stream",
     "text": [
      "Collecting yfinance==0.1.67\n",
      "  Downloading yfinance-0.1.67-py2.py3-none-any.whl.metadata (10 kB)\n",
      "Requirement already satisfied: pandas>=0.24 in c:\\users\\hasib\\anaconda3\\lib\\site-packages (from yfinance==0.1.67) (2.2.2)\n",
      "Requirement already satisfied: numpy>=1.15 in c:\\users\\hasib\\anaconda3\\lib\\site-packages (from yfinance==0.1.67) (1.26.4)\n",
      "Requirement already satisfied: requests>=2.20 in c:\\users\\hasib\\anaconda3\\lib\\site-packages (from yfinance==0.1.67) (2.32.3)\n",
      "Requirement already satisfied: multitasking>=0.0.7 in c:\\users\\hasib\\anaconda3\\lib\\site-packages (from yfinance==0.1.67) (0.0.11)\n",
      "Requirement already satisfied: lxml>=4.5.1 in c:\\users\\hasib\\anaconda3\\lib\\site-packages (from yfinance==0.1.67) (4.9.3)\n",
      "Requirement already satisfied: python-dateutil>=2.8.2 in c:\\users\\hasib\\anaconda3\\lib\\site-packages (from pandas>=0.24->yfinance==0.1.67) (2.8.2)\n",
      "Requirement already satisfied: pytz>=2020.1 in c:\\users\\hasib\\anaconda3\\lib\\site-packages (from pandas>=0.24->yfinance==0.1.67) (2023.3.post1)\n",
      "Requirement already satisfied: tzdata>=2022.7 in c:\\users\\hasib\\anaconda3\\lib\\site-packages (from pandas>=0.24->yfinance==0.1.67) (2023.3)\n",
      "Requirement already satisfied: charset-normalizer<4,>=2 in c:\\users\\hasib\\anaconda3\\lib\\site-packages (from requests>=2.20->yfinance==0.1.67) (2.0.4)\n",
      "Requirement already satisfied: idna<4,>=2.5 in c:\\users\\hasib\\anaconda3\\lib\\site-packages (from requests>=2.20->yfinance==0.1.67) (3.4)\n",
      "Requirement already satisfied: urllib3<3,>=1.21.1 in c:\\users\\hasib\\anaconda3\\lib\\site-packages (from requests>=2.20->yfinance==0.1.67) (1.26.19)\n",
      "Requirement already satisfied: certifi>=2017.4.17 in c:\\users\\hasib\\anaconda3\\lib\\site-packages (from requests>=2.20->yfinance==0.1.67) (2023.11.17)\n",
      "Requirement already satisfied: six>=1.5 in c:\\users\\hasib\\anaconda3\\lib\\site-packages (from python-dateutil>=2.8.2->pandas>=0.24->yfinance==0.1.67) (1.16.0)\n",
      "Downloading yfinance-0.1.67-py2.py3-none-any.whl (25 kB)\n",
      "Installing collected packages: yfinance\n",
      "  Attempting uninstall: yfinance\n",
      "    Found existing installation: yfinance 0.2.38\n",
      "    Uninstalling yfinance-0.2.38:\n",
      "      Successfully uninstalled yfinance-0.2.38\n",
      "Successfully installed yfinance-0.1.67\n",
      "Collecting nbformat==4.2.0\n",
      "  Downloading nbformat-4.2.0-py2.py3-none-any.whl.metadata (1.1 kB)\n",
      "Requirement already satisfied: ipython-genutils in c:\\users\\hasib\\anaconda3\\lib\\site-packages (from nbformat==4.2.0) (0.2.0)\n",
      "Requirement already satisfied: jsonschema!=2.5.0,>=2.4 in c:\\users\\hasib\\anaconda3\\lib\\site-packages (from nbformat==4.2.0) (4.19.2)\n",
      "Requirement already satisfied: jupyter-core in c:\\users\\hasib\\anaconda3\\lib\\site-packages (from nbformat==4.2.0) (5.5.0)\n",
      "Requirement already satisfied: traitlets>=4.1 in c:\\users\\hasib\\anaconda3\\lib\\site-packages (from nbformat==4.2.0) (5.7.1)\n",
      "Requirement already satisfied: attrs>=22.2.0 in c:\\users\\hasib\\anaconda3\\lib\\site-packages (from jsonschema!=2.5.0,>=2.4->nbformat==4.2.0) (23.1.0)\n",
      "Requirement already satisfied: jsonschema-specifications>=2023.03.6 in c:\\users\\hasib\\anaconda3\\lib\\site-packages (from jsonschema!=2.5.0,>=2.4->nbformat==4.2.0) (2023.7.1)\n",
      "Requirement already satisfied: referencing>=0.28.4 in c:\\users\\hasib\\anaconda3\\lib\\site-packages (from jsonschema!=2.5.0,>=2.4->nbformat==4.2.0) (0.30.2)\n",
      "Requirement already satisfied: rpds-py>=0.7.1 in c:\\users\\hasib\\anaconda3\\lib\\site-packages (from jsonschema!=2.5.0,>=2.4->nbformat==4.2.0) (0.10.6)\n",
      "Requirement already satisfied: platformdirs>=2.5 in c:\\users\\hasib\\anaconda3\\lib\\site-packages (from jupyter-core->nbformat==4.2.0) (3.10.0)\n",
      "Requirement already satisfied: pywin32>=300 in c:\\users\\hasib\\anaconda3\\lib\\site-packages (from jupyter-core->nbformat==4.2.0) (305.1)\n",
      "Downloading nbformat-4.2.0-py2.py3-none-any.whl (153 kB)\n",
      "   ---------------------------------------- 0.0/153.3 kB ? eta -:--:--\n",
      "   -- ------------------------------------- 10.2/153.3 kB ? eta -:--:--\n",
      "   ------- ------------------------------- 30.7/153.3 kB 435.7 kB/s eta 0:00:01\n",
      "   ------------------------------------- -- 143.4/153.3 kB 1.4 MB/s eta 0:00:01\n",
      "   ------------------------------------- -- 143.4/153.3 kB 1.4 MB/s eta 0:00:01\n",
      "   -------------------------------------- 153.3/153.3 kB 911.2 kB/s eta 0:00:00\n",
      "Installing collected packages: nbformat\n",
      "  Attempting uninstall: nbformat\n",
      "    Found existing installation: nbformat 5.9.2\n",
      "    Uninstalling nbformat-5.9.2:\n",
      "      Successfully uninstalled nbformat-5.9.2\n",
      "Successfully installed nbformat-4.2.0\n"
     ]
    },
    {
     "name": "stderr",
     "output_type": "stream",
     "text": [
      "ERROR: pip's dependency resolver does not currently take into account all the packages that are installed. This behaviour is the source of the following dependency conflicts.\n",
      "conda-repo-cli 1.0.75 requires requests_mock, which is not installed.\n",
      "anaconda-client 1.12.3 requires nbformat>=4.4.0, but you have nbformat 4.2.0 which is incompatible.\n",
      "conda-repo-cli 1.0.75 requires clyent==1.2.1, but you have clyent 1.2.2 which is incompatible.\n",
      "conda-repo-cli 1.0.75 requires nbformat==5.9.2, but you have nbformat 4.2.0 which is incompatible.\n",
      "conda-repo-cli 1.0.75 requires requests==2.31.0, but you have requests 2.32.3 which is incompatible.\n",
      "jupyter-server 2.10.0 requires nbformat>=5.3.0, but you have nbformat 4.2.0 which is incompatible.\n",
      "nbclient 0.8.0 requires nbformat>=5.1, but you have nbformat 4.2.0 which is incompatible.\n",
      "nbconvert 7.10.0 requires nbformat>=5.7, but you have nbformat 4.2.0 which is incompatible.\n"
     ]
    }
   ],
   "source": [
    "!pip install yfinance==0.1.67\n",
    "# !mamba install bs4==4.10.0 -y  # doesn't work as I have conda environment\n",
    "!pip install nbformat==4.2.0"
   ]
  },
  {
   "cell_type": "code",
   "execution_count": 30,
   "metadata": {},
   "outputs": [],
   "source": [
    "import yfinance as yf\n",
    "import pandas as pd\n",
    "import requests\n",
    "from bs4 import BeautifulSoup\n",
    "import plotly.graph_objects as go\n",
    "from plotly.subplots import make_subplots"
   ]
  },
  {
   "cell_type": "markdown",
   "metadata": {},
   "source": [
    "In Python, you can ignore warnings using the warnings module. You can use the filterwarnings function to filter or ignore specific warning messages or categories.\n"
   ]
  },
  {
   "cell_type": "code",
   "execution_count": 16,
   "metadata": {},
   "outputs": [],
   "source": [
    "import warnings\n",
    "# Ignore all warnings\n",
    "warnings.filterwarnings(\"ignore\", category=FutureWarning)"
   ]
  },
  {
   "cell_type": "markdown",
   "metadata": {},
   "source": [
    "## Define Graphing Function\n"
   ]
  },
  {
   "cell_type": "markdown",
   "metadata": {},
   "source": [
    "In this section, we define the function `make_graph`. **You don't have to know how the function works, you should only care about the inputs. It takes a dataframe with stock data (dataframe must contain Date and Close columns), a dataframe with revenue data (dataframe must contain Date and Revenue columns), and the name of the stock.**\n"
   ]
  },
  {
   "cell_type": "code",
   "execution_count": 18,
   "metadata": {},
   "outputs": [],
   "source": [
    "def make_graph(stock_data, revenue_data, stock):\n",
    "    fig = make_subplots(rows=2, cols=1, shared_xaxes=True, subplot_titles=(\"Historical Share Price\", \"Historical Revenue\"), vertical_spacing = .3)\n",
    "    stock_data_specific = stock_data[stock_data.Date <= '2021--06-14']\n",
    "    revenue_data_specific = revenue_data[revenue_data.Date <= '2021-04-30']\n",
    "    fig.add_trace(go.Scatter(x=pd.to_datetime(stock_data_specific.Date, infer_datetime_format=True), y=stock_data_specific.Close.astype(\"float\"), name=\"Share Price\"), row=1, col=1)\n",
    "    fig.add_trace(go.Scatter(x=pd.to_datetime(revenue_data_specific.Date, infer_datetime_format=True), y=revenue_data_specific.Revenue.astype(\"float\"), name=\"Revenue\"), row=2, col=1)\n",
    "    fig.update_xaxes(title_text=\"Date\", row=1, col=1)\n",
    "    fig.update_xaxes(title_text=\"Date\", row=2, col=1)\n",
    "    fig.update_yaxes(title_text=\"Price ($US)\", row=1, col=1)\n",
    "    fig.update_yaxes(title_text=\"Revenue ($US Millions)\", row=2, col=1)\n",
    "    fig.update_layout(showlegend=False,\n",
    "    height=900,\n",
    "    title=stock,\n",
    "    xaxis_rangeslider_visible=True)\n",
    "    fig.show()"
   ]
  },
  {
   "cell_type": "markdown",
   "metadata": {},
   "source": [
    "Use the make_graph function that we’ve already defined. You’ll need to invoke it in questions 5 and 6 to display the graphs and create the dashboard. \n",
    "> **Note: You don’t need to redefine the function for plotting graphs anywhere else in this notebook; just use the existing function.**\n"
   ]
  },
  {
   "cell_type": "markdown",
   "metadata": {},
   "source": [
    "## Question 1: Use yfinance to Extract Stock Data\n"
   ]
  },
  {
   "cell_type": "markdown",
   "metadata": {},
   "source": [
    "Using the `Ticker` function enter the ticker symbol of the stock we want to extract data on to create a ticker object. The stock is Tesla and its ticker symbol is `TSLA`.\n"
   ]
  },
  {
   "cell_type": "code",
   "execution_count": 32,
   "metadata": {},
   "outputs": [
    {
     "name": "stdout",
     "output_type": "stream",
     "text": [
      "TSLA: No data found for this date range, symbol may be delisted\n"
     ]
    },
    {
     "data": {
      "text/html": [
       "<div>\n",
       "<style scoped>\n",
       "    .dataframe tbody tr th:only-of-type {\n",
       "        vertical-align: middle;\n",
       "    }\n",
       "\n",
       "    .dataframe tbody tr th {\n",
       "        vertical-align: top;\n",
       "    }\n",
       "\n",
       "    .dataframe thead th {\n",
       "        text-align: right;\n",
       "    }\n",
       "</style>\n",
       "<table border=\"1\" class=\"dataframe\">\n",
       "  <thead>\n",
       "    <tr style=\"text-align: right;\">\n",
       "      <th></th>\n",
       "      <th>Open</th>\n",
       "      <th>High</th>\n",
       "      <th>Low</th>\n",
       "      <th>Close</th>\n",
       "      <th>Adj Close</th>\n",
       "      <th>Volume</th>\n",
       "    </tr>\n",
       "    <tr>\n",
       "      <th>Date</th>\n",
       "      <th></th>\n",
       "      <th></th>\n",
       "      <th></th>\n",
       "      <th></th>\n",
       "      <th></th>\n",
       "      <th></th>\n",
       "    </tr>\n",
       "  </thead>\n",
       "  <tbody>\n",
       "  </tbody>\n",
       "</table>\n",
       "</div>"
      ],
      "text/plain": [
       "Empty DataFrame\n",
       "Columns: [Open, High, Low, Close, Adj Close, Volume]\n",
       "Index: []"
      ]
     },
     "execution_count": 32,
     "metadata": {},
     "output_type": "execute_result"
    }
   ],
   "source": [
    "import yfinance as yf\n",
    "\n",
    "# Define the ticker symbol\n",
    "ticker_symbol = \"TSLA\"\n",
    "\n",
    "# Get data on this ticker\n",
    "ticker_data = yf.Ticker(ticker_symbol)\n",
    "\n",
    "# Get the historical prices for this ticker\n",
    "tesla_data = ticker_data.history(period=\"max\")\n",
    "\n",
    "# Display the first few rows of the dataframe\n",
    "tesla_data.head()"
   ]
  },
  {
   "cell_type": "code",
   "execution_count": 34,
   "metadata": {},
   "outputs": [
    {
     "name": "stdout",
     "output_type": "stream",
     "text": [
      "TSLA: No data found for this date range, symbol may be delisted\n",
      "Empty DataFrame\n",
      "Columns: [Open, High, Low, Close, Adj Close, Volume]\n",
      "Index: []\n"
     ]
    }
   ],
   "source": [
    "import yfinance as yf\n",
    "\n",
    "# Define the ticker symbol\n",
    "ticker_symbol = \"TSLA\"\n",
    "\n",
    "# Get data on this ticker\n",
    "ticker_data = yf.Ticker(ticker_symbol)\n",
    "\n",
    "# Get the historical prices for this ticker with a specific period\n",
    "tesla_data = ticker_data.history(start=\"2010-01-01\", end=\"2023-12-31\")\n",
    "\n",
    "# Display the first few rows of the dataframe\n",
    "print(tesla_data.head())"
   ]
  },
  {
   "cell_type": "markdown",
   "metadata": {},
   "source": [
    "Using the ticker object and the function `history` extract stock information and save it in a dataframe named `tesla_data`. Set the `period` parameter to ` \"max\" ` so we get information for the maximum amount of time.\n"
   ]
  },
  {
   "cell_type": "code",
   "execution_count": 36,
   "metadata": {},
   "outputs": [
    {
     "name": "stdout",
     "output_type": "stream",
     "text": [
      "TSLA: No data found for this date range, symbol may be delisted\n",
      "Empty DataFrame\n",
      "Columns: [Open, High, Low, Close, Adj Close, Volume]\n",
      "Index: []\n"
     ]
    }
   ],
   "source": [
    "import yfinance as yf\n",
    "\n",
    "# Define the ticker symbol for Tesla\n",
    "ticker_symbol = \"TSLA\"\n",
    "\n",
    "# Create a ticker object\n",
    "ticker_data = yf.Ticker(ticker_symbol)\n",
    "\n",
    "# Use the history function to extract stock information\n",
    "tesla_data = ticker_data.history(period=\"max\")\n",
    "\n",
    "# Display the first few rows of the dataframe\n",
    "print(tesla_data.head())"
   ]
  },
  {
   "cell_type": "markdown",
   "metadata": {},
   "source": [
    "**Reset the index** using the `reset_index(inplace=True)` function on the tesla_data DataFrame and display the first five rows of the `tesla_data` dataframe using the `head` function. Take a screenshot of the results and code from the beginning of Question 1 to the results below.\n"
   ]
  },
  {
   "cell_type": "code",
   "execution_count": 38,
   "metadata": {},
   "outputs": [
    {
     "name": "stdout",
     "output_type": "stream",
     "text": [
      "TSLA: No data found for this date range, symbol may be delisted\n",
      "Empty DataFrame\n",
      "Columns: [Date, Open, High, Low, Close, Adj Close, Volume]\n",
      "Index: []\n"
     ]
    }
   ],
   "source": [
    "import yfinance as yf\n",
    "\n",
    "# Define the ticker symbol for Tesla\n",
    "ticker_symbol = \"TSLA\"\n",
    "\n",
    "# Create a ticker object\n",
    "ticker_data = yf.Ticker(ticker_symbol)\n",
    "\n",
    "# Use the history function to extract stock information\n",
    "tesla_data = ticker_data.history(period=\"max\")\n",
    "\n",
    "# Reset the index\n",
    "tesla_data.reset_index(inplace=True)\n",
    "\n",
    "# Display the first five rows of the dataframe\n",
    "print(tesla_data.head())"
   ]
  },
  {
   "cell_type": "markdown",
   "metadata": {},
   "source": [
    "## Question 2: Use Webscraping to Extract Tesla Revenue Data\n"
   ]
  },
  {
   "cell_type": "markdown",
   "metadata": {},
   "source": [
    "Use the `requests` library to download the webpage https://cf-courses-data.s3.us.cloud-object-storage.appdomain.cloud/IBMDeveloperSkillsNetwork-PY0220EN-SkillsNetwork/labs/project/revenue.htm Save the text of the response as a variable named `html_data`.\n"
   ]
  },
  {
   "cell_type": "code",
   "execution_count": 44,
   "metadata": {},
   "outputs": [
    {
     "name": "stdout",
     "output_type": "stream",
     "text": [
      "\n",
      "<!DOCTYPE html>\n",
      "<!--[if lt IE 7]>      <html class=\"no-js lt-ie9 lt-ie8 lt-ie7\"> <![endif]-->\n",
      "<!--[if IE 7]>         <html class=\"no-js lt-ie9 lt-ie8\"> <![endif]-->\n",
      "<!--[if IE 8]>         <html class=\"no-js lt-ie9\"> <![endif]-->\n",
      "<!--[if gt IE 8]><!--> <html class=\"no-js\"> <!--<![endif]-->\n",
      "    <head>\n",
      "        <meta charset=\"utf-8\">\n",
      "        <meta http-equiv=\"X-UA-Compatible\" content=\"IE=edge,chrome=1\">\n",
      "\t\t<link rel=\"canonical\" href=\"https://www.macrotrends.net/stocks/charts/TSLA/tesla/revenue\" />\n",
      "\t\n"
     ]
    }
   ],
   "source": [
    "import requests\n",
    "\n",
    "# URL of the webpage to download\n",
    "url = \"https://cf-courses-data.s3.us.cloud-object-storage.appdomain.cloud/IBMDeveloperSkillsNetwork-PY0220EN-SkillsNetwork/labs/project/revenue.htm\"\n",
    "\n",
    "# Send a GET request to the URL\n",
    "response = requests.get(url)\n",
    "\n",
    "# Save the text of the response as a variable\n",
    "html_data = response.text\n",
    "\n",
    "# Verify by printing a portion of the HTML content\n",
    "print(html_data[:500])"
   ]
  },
  {
   "cell_type": "markdown",
   "metadata": {},
   "source": [
    "Parse the html data using `beautiful_soup` using parser i.e `html5lib` or `html.parser`.\n"
   ]
  },
  {
   "cell_type": "code",
   "execution_count": 48,
   "metadata": {},
   "outputs": [
    {
     "name": "stdout",
     "output_type": "stream",
     "text": [
      "<!DOCTYPE html>\n",
      "<!--[if lt IE 7]>      <html class=\"no-js lt-ie9 lt-ie8 lt-ie7\"> <![endif]-->\n",
      "<!--[if IE 7]>         <html class=\"no-js lt-ie9 lt-ie8\"> <![endif]-->\n",
      "<!--[if IE 8]>         <html class=\"no-js lt-ie9\"> <![endif]-->\n",
      "<!--[if gt IE 8]><!-->\n",
      "<html class=\"no-js\">\n",
      " <!--<![endif]-->\n",
      " <head>\n",
      "  <meta charset=\"utf-8\"/>\n",
      "  <meta content=\"IE=edge,chrome=1\" http-equiv=\"X-UA-Compatible\"/>\n",
      "  <link href=\"https://www.macrotrends.net/stocks/charts/TSLA/tesla/revenue\" rel=\"canonical\"/>\n",
      "  <title>\n",
      "   Te\n"
     ]
    }
   ],
   "source": [
    "import requests\n",
    "from bs4 import BeautifulSoup\n",
    "\n",
    "# URL of the webpage to download\n",
    "url = \"https://cf-courses-data.s3.us.cloud-object-storage.appdomain.cloud/IBMDeveloperSkillsNetwork-PY0220EN-SkillsNetwork/labs/project/revenue.htm\"\n",
    "\n",
    "# Send a GET request to the URL\n",
    "response = requests.get(url)\n",
    "\n",
    "# Check if the request was successful\n",
    "if response.status_code == 200:\n",
    "    # Save the text of the response as a variable\n",
    "    html_data = response.text\n",
    "    \n",
    "    # Parse the HTML data using BeautifulSoup\n",
    "    soup = BeautifulSoup(html_data, 'html.parser')\n",
    "    \n",
    "    # Print the parsed HTML to verify\n",
    "    print(soup.prettify()[:500])\n",
    "else:\n",
    "    print(\"Failed to retrieve the webpage. Status code:\", response.status_code)"
   ]
  },
  {
   "cell_type": "markdown",
   "metadata": {},
   "source": [
    "Using `BeautifulSoup` or the `read_html` function extract the table with `Tesla Revenue` and store it into a dataframe named `tesla_revenue`. The dataframe should have columns `Date` and `Revenue`.\n"
   ]
  },
  {
   "cell_type": "markdown",
   "metadata": {},
   "source": [
    "<details><summary>Step-by-step instructions</summary>\n",
    "\n",
    "```\n",
    "\n",
    "Here are the step-by-step instructions:\n",
    "\n",
    "1. Create an Empty DataFrame\n",
    "2. Find the Relevant Table\n",
    "3. Check for the Tesla Quarterly Revenue Table\n",
    "4. Iterate Through Rows in the Table Body\n",
    "5. Extract Data from Columns\n",
    "6. Append Data to the DataFrame\n",
    "\n",
    "```\n",
    "</details>\n"
   ]
  },
  {
   "cell_type": "markdown",
   "metadata": {},
   "source": [
    "<details><summary>Click here if you need help locating the table</summary>\n",
    "\n",
    "```\n",
    "    \n",
    "Below is the code to isolate the table, you will now need to loop through the rows and columns like in the previous lab\n",
    "    \n",
    "soup.find_all(\"tbody\")[1]\n",
    "    \n",
    "If you want to use the read_html function the table is located at index 1\n",
    "\n",
    "We are focusing on quarterly revenue in the lab.\n",
    "```\n",
    "\n",
    "</details>\n"
   ]
  },
  {
   "cell_type": "code",
   "execution_count": 50,
   "metadata": {},
   "outputs": [
    {
     "name": "stdout",
     "output_type": "stream",
     "text": [
      "          Date  Revenue\n",
      "0   2022-09-30  $21,454\n",
      "1   2022-06-30  $16,934\n",
      "2   2022-03-31  $18,756\n",
      "3   2021-12-31  $17,719\n",
      "4   2021-09-30  $13,757\n",
      "5   2021-06-30  $11,958\n",
      "6   2021-03-31  $10,389\n",
      "7   2020-12-31  $10,744\n",
      "8   2020-09-30   $8,771\n",
      "9   2020-06-30   $6,036\n",
      "10  2020-03-31   $5,985\n",
      "11  2019-12-31   $7,384\n",
      "12  2019-09-30   $6,303\n",
      "13  2019-06-30   $6,350\n",
      "14  2019-03-31   $4,541\n",
      "15  2018-12-31   $7,226\n",
      "16  2018-09-30   $6,824\n",
      "17  2018-06-30   $4,002\n",
      "18  2018-03-31   $3,409\n",
      "19  2017-12-31   $3,288\n",
      "20  2017-09-30   $2,985\n",
      "21  2017-06-30   $2,790\n",
      "22  2017-03-31   $2,696\n",
      "23  2016-12-31   $2,285\n",
      "24  2016-09-30   $2,298\n",
      "25  2016-06-30   $1,270\n",
      "26  2016-03-31   $1,147\n",
      "27  2015-12-31   $1,214\n",
      "28  2015-09-30     $937\n",
      "29  2015-06-30     $955\n",
      "30  2015-03-31     $940\n",
      "31  2014-12-31     $957\n",
      "32  2014-09-30     $852\n",
      "33  2014-06-30     $769\n",
      "34  2014-03-31     $621\n",
      "35  2013-12-31     $615\n",
      "36  2013-09-30     $431\n",
      "37  2013-06-30     $405\n",
      "38  2013-03-31     $562\n",
      "39  2012-12-31     $306\n",
      "40  2012-09-30      $50\n",
      "41  2012-06-30      $27\n",
      "42  2012-03-31      $30\n",
      "43  2011-12-31      $39\n",
      "44  2011-09-30      $58\n",
      "45  2011-06-30      $58\n",
      "46  2011-03-31      $49\n",
      "47  2010-12-31      $36\n",
      "48  2010-09-30      $31\n",
      "49  2010-06-30      $28\n",
      "50  2010-03-31      $21\n",
      "51  2009-12-31      NaN\n",
      "52  2009-09-30      $46\n",
      "53  2009-06-30      $27\n"
     ]
    }
   ],
   "source": [
    "import pandas as pd\n",
    "\n",
    "# Read the HTML tables into a list of DataFrames\n",
    "tables = pd.read_html(url)\n",
    "\n",
    "# Select the table at index 1 (assuming it's the correct one)\n",
    "tesla_revenue = tables[1]\n",
    "\n",
    "# Rename the columns\n",
    "tesla_revenue.columns = [\"Date\", \"Revenue\"]\n",
    "\n",
    "# Display the DataFrame\n",
    "print(tesla_revenue)"
   ]
  },
  {
   "cell_type": "markdown",
   "metadata": {},
   "source": [
    "Execute the following line to remove the comma and dollar sign from the `Revenue` column. \n"
   ]
  },
  {
   "cell_type": "code",
   "execution_count": 52,
   "metadata": {},
   "outputs": [],
   "source": [
    "tesla_revenue[\"Revenue\"] = tesla_revenue['Revenue'].str.replace(',|\\$',\"\")"
   ]
  },
  {
   "cell_type": "markdown",
   "metadata": {},
   "source": [
    "Execute the following lines to remove an null or empty strings in the Revenue column.\n"
   ]
  },
  {
   "cell_type": "code",
   "execution_count": 54,
   "metadata": {},
   "outputs": [],
   "source": [
    "tesla_revenue.dropna(inplace=True)\n",
    "\n",
    "tesla_revenue = tesla_revenue[tesla_revenue['Revenue'] != \"\"]"
   ]
  },
  {
   "cell_type": "markdown",
   "metadata": {},
   "source": [
    "Display the last 5 row of the `tesla_revenue` dataframe using the `tail` function. Take a screenshot of the results.\n"
   ]
  },
  {
   "cell_type": "code",
   "execution_count": 56,
   "metadata": {},
   "outputs": [
    {
     "name": "stdout",
     "output_type": "stream",
     "text": [
      "          Date Revenue\n",
      "48  2010-09-30     $31\n",
      "49  2010-06-30     $28\n",
      "50  2010-03-31     $21\n",
      "52  2009-09-30     $46\n",
      "53  2009-06-30     $27\n"
     ]
    }
   ],
   "source": [
    "# Display the last 5 rows of the DataFrame\n",
    "print(tesla_revenue.tail())"
   ]
  },
  {
   "cell_type": "markdown",
   "metadata": {},
   "source": [
    "## Question 3: Use yfinance to Extract Stock Data\n"
   ]
  },
  {
   "cell_type": "markdown",
   "metadata": {},
   "source": [
    "Using the `Ticker` function enter the ticker symbol of the stock we want to extract data on to create a ticker object. The stock is GameStop and its ticker symbol is `GME`.\n"
   ]
  },
  {
   "cell_type": "code",
   "execution_count": 58,
   "metadata": {},
   "outputs": [
    {
     "name": "stdout",
     "output_type": "stream",
     "text": [
      "yfinance.Ticker object <GME>\n"
     ]
    }
   ],
   "source": [
    "import yfinance as yf\n",
    "\n",
    "# Define the ticker symbol for GameStop\n",
    "ticker_symbol = \"GME\"\n",
    "\n",
    "# Create a ticker object for GameStop\n",
    "ticker_data = yf.Ticker(ticker_symbol)\n",
    "\n",
    "# Display the ticker object to verify\n",
    "print(ticker_data)"
   ]
  },
  {
   "cell_type": "markdown",
   "metadata": {},
   "source": [
    "Using the ticker object and the function `history` extract stock information and save it in a dataframe named `gme_data`. Set the `period` parameter to ` \"max\" ` so we get information for the maximum amount of time.\n"
   ]
  },
  {
   "cell_type": "code",
   "execution_count": 62,
   "metadata": {},
   "outputs": [
    {
     "name": "stdout",
     "output_type": "stream",
     "text": [
      "GME: No data found for this date range, symbol may be delisted\n",
      "Empty DataFrame\n",
      "Columns: [Open, High, Low, Close, Adj Close, Volume]\n",
      "Index: []\n"
     ]
    }
   ],
   "source": [
    "import yfinance as yf\n",
    "\n",
    "# Define the ticker symbol for GameStop\n",
    "ticker_symbol = \"GME\"\n",
    "\n",
    "# Create a ticker object for GameStop\n",
    "ticker_data = yf.Ticker(ticker_symbol)\n",
    "\n",
    "# Use the history function to extract stock information\n",
    "gme_data = ticker_data.history(period=\"max\")\n",
    "\n",
    "# Display the first few rows of the dataframe to verify\n",
    "print(gme_data.head())"
   ]
  },
  {
   "cell_type": "markdown",
   "metadata": {},
   "source": [
    "**Reset the index** using the `reset_index(inplace=True)` function on the gme_data DataFrame and display the first five rows of the `gme_data` dataframe using the `head` function. Take a screenshot of the results and code from the beginning of Question 3 to the results below.\n"
   ]
  },
  {
   "cell_type": "code",
   "execution_count": 66,
   "metadata": {},
   "outputs": [
    {
     "name": "stdout",
     "output_type": "stream",
     "text": [
      "GME: No data found for this date range, symbol may be delisted\n",
      "No data found for this date range, symbol may be delisted.\n"
     ]
    }
   ],
   "source": [
    "import yfinance as yf\n",
    "\n",
    "# Define the ticker symbol for GameStop\n",
    "ticker_symbol = \"GME\"\n",
    "\n",
    "# Create a ticker object for GameStop\n",
    "ticker_data = yf.Ticker(ticker_symbol)\n",
    "\n",
    "# Use the history function to extract stock information with a specific date range\n",
    "gme_data = ticker_data.history(period=\"max\")\n",
    "\n",
    "# Check if the DataFrame is empty\n",
    "if gme_data.empty:\n",
    "    print(\"No data found for this date range, symbol may be delisted.\")\n",
    "else:\n",
    "    # Reset the index\n",
    "    gme_data.reset_index(inplace=True)\n",
    "\n",
    "    # Display the first five rows of the dataframe to verify\n",
    "    print(gme_data.head())"
   ]
  },
  {
   "cell_type": "markdown",
   "metadata": {},
   "source": [
    "## Question 4: Use Webscraping to Extract GME Revenue Data\n"
   ]
  },
  {
   "cell_type": "markdown",
   "metadata": {},
   "source": [
    "Use the `requests` library to download the webpage https://cf-courses-data.s3.us.cloud-object-storage.appdomain.cloud/IBMDeveloperSkillsNetwork-PY0220EN-SkillsNetwork/labs/project/stock.html. Save the text of the response as a variable named `html_data_2`.\n"
   ]
  },
  {
   "cell_type": "code",
   "execution_count": 68,
   "metadata": {},
   "outputs": [
    {
     "name": "stdout",
     "output_type": "stream",
     "text": [
      "<!DOCTYPE html>\n",
      "<!-- saved from url=(0105)https://web.archive.org/web/20200814131437/https://www.macrotrends.net/stocks/charts/GME/gamestop/revenue -->\n",
      "<html class=\" js flexbox canvas canvastext webgl no-touch geolocation postmessage websqldatabase indexeddb hashchange history draganddrop websockets rgba hsla multiplebgs backgroundsize borderimage borderradius boxshadow textshadow opacity cssanimations csscolumns cssgradients cssreflections csstransforms csstransforms3d csstransitions fontface g\n"
     ]
    }
   ],
   "source": [
    "import requests\n",
    "\n",
    "# URL of the webpage to download\n",
    "url = \"https://cf-courses-data.s3.us.cloud-object-storage.appdomain.cloud/IBMDeveloperSkillsNetwork-PY0220EN-SkillsNetwork/labs/project/stock.html\"\n",
    "\n",
    "# Send a GET request to the URL\n",
    "response = requests.get(url)\n",
    "\n",
    "# Save the text of the response as a variable\n",
    "html_data_2 = response.text\n",
    "\n",
    "# Verify the first 500 characters of the HTML data\n",
    "print(html_data_2[:500])"
   ]
  },
  {
   "cell_type": "markdown",
   "metadata": {},
   "source": [
    "Parse the html data using `beautiful_soup` using parser i.e `html5lib` or `html.parser`.\n"
   ]
  },
  {
   "cell_type": "code",
   "execution_count": 70,
   "metadata": {},
   "outputs": [
    {
     "name": "stdout",
     "output_type": "stream",
     "text": [
      "<!DOCTYPE html>\n",
      "<!-- saved from url=(0105)https://web.archive.org/web/20200814131437/https://www.macrotrends.net/stocks/charts/GME/gamestop/revenue -->\n",
      "<html class=\"js flexbox canvas canvastext webgl no-touch geolocation postmessage websqldatabase indexeddb hashchange history draganddrop websockets rgba hsla multiplebgs backgroundsize borderimage borderradius boxshadow textshadow opacity cssanimations csscolumns cssgradients cssreflections csstransforms csstransforms3d csstransitions fontface ge\n"
     ]
    }
   ],
   "source": [
    "import requests\n",
    "from bs4 import BeautifulSoup\n",
    "\n",
    "# URL of the webpage to download\n",
    "url = \"https://cf-courses-data.s3.us.cloud-object-storage.appdomain.cloud/IBMDeveloperSkillsNetwork-PY0220EN-SkillsNetwork/labs/project/stock.html\"\n",
    "\n",
    "# Send a GET request to the URL\n",
    "response = requests.get(url)\n",
    "\n",
    "# Save the text of the response as a variable\n",
    "html_data_2 = response.text\n",
    "\n",
    "# Parse the HTML data using BeautifulSoup\n",
    "soup = BeautifulSoup(html_data_2, 'html.parser')\n",
    "\n",
    "# Print the parsed HTML to verify\n",
    "print(soup.prettify()[:500])"
   ]
  },
  {
   "cell_type": "markdown",
   "metadata": {},
   "source": [
    "Using `BeautifulSoup` or the `read_html` function extract the table with `GameStop Revenue` and store it into a dataframe named `gme_revenue`. The dataframe should have columns `Date` and `Revenue`. Make sure the comma and dollar sign is removed from the `Revenue` column.\n"
   ]
  },
  {
   "cell_type": "markdown",
   "metadata": {},
   "source": [
    "> **Note: Use the method similar to what you did in question 2.**  \n"
   ]
  },
  {
   "cell_type": "markdown",
   "metadata": {},
   "source": [
    "<details><summary>Click here if you need help locating the table</summary>\n",
    "\n",
    "```\n",
    "    \n",
    "Below is the code to isolate the table, you will now need to loop through the rows and columns like in the previous lab\n",
    "    \n",
    "soup.find_all(\"tbody\")[1]\n",
    "    \n",
    "If you want to use the read_html function the table is located at index 1\n",
    "\n",
    "\n",
    "```\n",
    "\n",
    "</details>\n"
   ]
  },
  {
   "cell_type": "code",
   "execution_count": 77,
   "metadata": {},
   "outputs": [
    {
     "name": "stdout",
     "output_type": "stream",
     "text": [
      "          Date  Revenue\n",
      "0   2020-04-30     1021\n",
      "1   2020-01-31     2194\n",
      "2   2019-10-31     1439\n",
      "3   2019-07-31     1286\n",
      "4   2019-04-30     1548\n",
      "..         ...      ...\n",
      "57  2006-01-31     1667\n",
      "58  2005-10-31      534\n",
      "59  2005-07-31      416\n",
      "60  2005-04-30      475\n",
      "61  2005-01-31      709\n",
      "\n",
      "[62 rows x 2 columns]\n"
     ]
    }
   ],
   "source": [
    "# I used the read_html method to code this\n",
    "\n",
    "import requests\n",
    "import pandas as pd\n",
    "\n",
    "# URL of the webpage to download\n",
    "url = \"https://cf-courses-data.s3.us.cloud-object-storage.appdomain.cloud/IBMDeveloperSkillsNetwork-PY0220EN-SkillsNetwork/labs/project/stock.html\"\n",
    "\n",
    "# Use pandas to read the HTML table\n",
    "tables = pd.read_html(url)\n",
    "\n",
    "# Select the table at index 1 (assuming it's the correct one)\n",
    "gme_revenue = tables[1]\n",
    "\n",
    "# Rename the columns\n",
    "gme_revenue.columns = [\"Date\", \"Revenue\"]\n",
    "\n",
    "# Remove the comma and dollar sign from the Revenue column\n",
    "gme_revenue[\"Revenue\"] = gme_revenue[\"Revenue\"].replace({'\\$': '', ',': ''}, regex=True)\n",
    "\n",
    "# Convert the Revenue column to numeric\n",
    "gme_revenue[\"Revenue\"] = pd.to_numeric(gme_revenue[\"Revenue\"])\n",
    "\n",
    "# Display the entire DataFrame\n",
    "print(gme_revenue)"
   ]
  },
  {
   "cell_type": "markdown",
   "metadata": {},
   "source": [
    "Display the last five rows of the `gme_revenue` dataframe using the `tail` function. Take a screenshot of the results.\n"
   ]
  },
  {
   "cell_type": "code",
   "execution_count": 79,
   "metadata": {},
   "outputs": [
    {
     "name": "stdout",
     "output_type": "stream",
     "text": [
      "          Date  Revenue\n",
      "57  2006-01-31     1667\n",
      "58  2005-10-31      534\n",
      "59  2005-07-31      416\n",
      "60  2005-04-30      475\n",
      "61  2005-01-31      709\n"
     ]
    }
   ],
   "source": [
    "# Display the DataFrame\n",
    "print(gme_revenue.tail())"
   ]
  },
  {
   "cell_type": "markdown",
   "metadata": {},
   "source": [
    "## Question 5: Plot Tesla Stock Graph\n"
   ]
  },
  {
   "cell_type": "markdown",
   "metadata": {},
   "source": [
    "Use the `make_graph` function to graph the Tesla Stock Data, also provide a title for the graph. Note the graph will only show data up to June 2021.\n"
   ]
  },
  {
   "cell_type": "markdown",
   "metadata": {},
   "source": [
    "<details><summary>Hint</summary>\n",
    "\n",
    "```\n",
    "\n",
    "You just need to invoke the make_graph function with the required parameter to print the graphs.The structure to call the `make_graph` function is `make_graph(tesla_data, tesla_revenue, 'Tesla')`.\n",
    "\n",
    "```\n",
    "    \n",
    "</details>\n"
   ]
  },
  {
   "cell_type": "code",
   "execution_count": 82,
   "metadata": {},
   "outputs": [
    {
     "name": "stdout",
     "output_type": "stream",
     "text": [
      "TSLA: No data found for this date range, symbol may be delisted\n"
     ]
    },
    {
     "ename": "AttributeError",
     "evalue": "'DataFrame' object has no attribute 'append'",
     "output_type": "error",
     "traceback": [
      "\u001b[1;31m---------------------------------------------------------------------------\u001b[0m",
      "\u001b[1;31mAttributeError\u001b[0m                            Traceback (most recent call last)",
      "\u001b[1;32m~\\AppData\\Local\\Temp\\ipykernel_32568\\3591128829.py\u001b[0m in \u001b[0;36m?\u001b[1;34m()\u001b[0m\n\u001b[0;32m     26\u001b[0m     \u001b[0mcols\u001b[0m \u001b[1;33m=\u001b[0m \u001b[0mrow\u001b[0m\u001b[1;33m.\u001b[0m\u001b[0mfind_all\u001b[0m\u001b[1;33m(\u001b[0m\u001b[1;34m'td'\u001b[0m\u001b[1;33m)\u001b[0m\u001b[1;33m\u001b[0m\u001b[1;33m\u001b[0m\u001b[0m\n\u001b[0;32m     27\u001b[0m     \u001b[1;32mif\u001b[0m \u001b[0mlen\u001b[0m\u001b[1;33m(\u001b[0m\u001b[0mcols\u001b[0m\u001b[1;33m)\u001b[0m \u001b[1;33m>\u001b[0m \u001b[1;36m1\u001b[0m\u001b[1;33m:\u001b[0m\u001b[1;33m\u001b[0m\u001b[1;33m\u001b[0m\u001b[0m\n\u001b[0;32m     28\u001b[0m         \u001b[0mdate\u001b[0m \u001b[1;33m=\u001b[0m \u001b[0mcols\u001b[0m\u001b[1;33m[\u001b[0m\u001b[1;36m0\u001b[0m\u001b[1;33m]\u001b[0m\u001b[1;33m.\u001b[0m\u001b[0mtext\u001b[0m\u001b[1;33m.\u001b[0m\u001b[0mstrip\u001b[0m\u001b[1;33m(\u001b[0m\u001b[1;33m)\u001b[0m\u001b[1;33m\u001b[0m\u001b[1;33m\u001b[0m\u001b[0m\n\u001b[0;32m     29\u001b[0m         \u001b[0mrevenue\u001b[0m \u001b[1;33m=\u001b[0m \u001b[0mcols\u001b[0m\u001b[1;33m[\u001b[0m\u001b[1;36m1\u001b[0m\u001b[1;33m]\u001b[0m\u001b[1;33m.\u001b[0m\u001b[0mtext\u001b[0m\u001b[1;33m.\u001b[0m\u001b[0mstrip\u001b[0m\u001b[1;33m(\u001b[0m\u001b[1;33m)\u001b[0m\u001b[1;33m.\u001b[0m\u001b[0mreplace\u001b[0m\u001b[1;33m(\u001b[0m\u001b[1;34m'$'\u001b[0m\u001b[1;33m,\u001b[0m \u001b[1;34m''\u001b[0m\u001b[1;33m)\u001b[0m\u001b[1;33m.\u001b[0m\u001b[0mreplace\u001b[0m\u001b[1;33m(\u001b[0m\u001b[1;34m','\u001b[0m\u001b[1;33m,\u001b[0m \u001b[1;34m''\u001b[0m\u001b[1;33m)\u001b[0m\u001b[1;33m\u001b[0m\u001b[1;33m\u001b[0m\u001b[0m\n\u001b[1;32m---> 30\u001b[1;33m         \u001b[0mtesla_revenue\u001b[0m \u001b[1;33m=\u001b[0m \u001b[0mtesla_revenue\u001b[0m\u001b[1;33m.\u001b[0m\u001b[0mappend\u001b[0m\u001b[1;33m(\u001b[0m\u001b[1;33m{\u001b[0m\u001b[1;34m\"Date\"\u001b[0m\u001b[1;33m:\u001b[0m \u001b[0mdate\u001b[0m\u001b[1;33m,\u001b[0m \u001b[1;34m\"Revenue\"\u001b[0m\u001b[1;33m:\u001b[0m \u001b[0mrevenue\u001b[0m\u001b[1;33m}\u001b[0m\u001b[1;33m,\u001b[0m \u001b[0mignore_index\u001b[0m\u001b[1;33m=\u001b[0m\u001b[1;32mTrue\u001b[0m\u001b[1;33m)\u001b[0m\u001b[1;33m\u001b[0m\u001b[1;33m\u001b[0m\u001b[0m\n\u001b[0m\u001b[0;32m     31\u001b[0m \u001b[1;33m\u001b[0m\u001b[0m\n\u001b[0;32m     32\u001b[0m \u001b[1;31m# Convert the Revenue column to numeric\u001b[0m\u001b[1;33m\u001b[0m\u001b[1;33m\u001b[0m\u001b[0m\n\u001b[0;32m     33\u001b[0m \u001b[0mtesla_revenue\u001b[0m\u001b[1;33m[\u001b[0m\u001b[1;34m\"Revenue\"\u001b[0m\u001b[1;33m]\u001b[0m \u001b[1;33m=\u001b[0m \u001b[0mpd\u001b[0m\u001b[1;33m.\u001b[0m\u001b[0mto_numeric\u001b[0m\u001b[1;33m(\u001b[0m\u001b[0mtesla_revenue\u001b[0m\u001b[1;33m[\u001b[0m\u001b[1;34m\"Revenue\"\u001b[0m\u001b[1;33m]\u001b[0m\u001b[1;33m)\u001b[0m\u001b[1;33m\u001b[0m\u001b[1;33m\u001b[0m\u001b[0m\n",
      "\u001b[1;32m~\\anaconda3\\Lib\\site-packages\\pandas\\core\\generic.py\u001b[0m in \u001b[0;36m?\u001b[1;34m(self, name)\u001b[0m\n\u001b[0;32m   5985\u001b[0m \u001b[1;33m\u001b[0m\u001b[0m\n\u001b[0;32m   5986\u001b[0m         \u001b[0mIf\u001b[0m \u001b[0mn\u001b[0m \u001b[1;32mis\u001b[0m \u001b[0mlarger\u001b[0m \u001b[0mthan\u001b[0m \u001b[0mthe\u001b[0m \u001b[0mnumber\u001b[0m \u001b[0mof\u001b[0m \u001b[0mrows\u001b[0m\u001b[1;33m,\u001b[0m \u001b[0mthis\u001b[0m \u001b[0mfunction\u001b[0m \u001b[0mreturns\u001b[0m \u001b[0mall\u001b[0m \u001b[0mrows\u001b[0m\u001b[1;33m.\u001b[0m\u001b[1;33m\u001b[0m\u001b[1;33m\u001b[0m\u001b[0m\n\u001b[0;32m   5987\u001b[0m \u001b[1;33m\u001b[0m\u001b[0m\n\u001b[0;32m   5988\u001b[0m         \u001b[0mParameters\u001b[0m\u001b[1;33m\u001b[0m\u001b[1;33m\u001b[0m\u001b[0m\n\u001b[1;32m-> 5989\u001b[1;33m         \u001b[1;33m-\u001b[0m\u001b[1;33m-\u001b[0m\u001b[1;33m-\u001b[0m\u001b[1;33m-\u001b[0m\u001b[1;33m-\u001b[0m\u001b[1;33m-\u001b[0m\u001b[1;33m-\u001b[0m\u001b[1;33m-\u001b[0m\u001b[1;33m-\u001b[0m\u001b[1;33m-\u001b[0m\u001b[1;33m\u001b[0m\u001b[1;33m\u001b[0m\u001b[0m\n\u001b[0m\u001b[0;32m   5990\u001b[0m         \u001b[0mn\u001b[0m \u001b[1;33m:\u001b[0m \u001b[0mint\u001b[0m\u001b[1;33m,\u001b[0m \u001b[0mdefault\u001b[0m \u001b[1;36m5\u001b[0m\u001b[1;33m\u001b[0m\u001b[1;33m\u001b[0m\u001b[0m\n\u001b[0;32m   5991\u001b[0m             \u001b[0mNumber\u001b[0m \u001b[0mof\u001b[0m \u001b[0mrows\u001b[0m \u001b[0mto\u001b[0m \u001b[0mselect\u001b[0m\u001b[1;33m.\u001b[0m\u001b[1;33m\u001b[0m\u001b[1;33m\u001b[0m\u001b[0m\n\u001b[0;32m   5992\u001b[0m \u001b[1;33m\u001b[0m\u001b[0m\n",
      "\u001b[1;31mAttributeError\u001b[0m: 'DataFrame' object has no attribute 'append'"
     ]
    }
   ],
   "source": [
    "import yfinance as yf\n",
    "import pandas as pd\n",
    "import requests\n",
    "from bs4 import BeautifulSoup\n",
    "import plotly.graph_objects as go\n",
    "from plotly.subplots import make_subplots\n",
    "\n",
    "# Fetch Tesla stock data\n",
    "ticker_symbol = \"TSLA\"\n",
    "ticker_data = yf.Ticker(ticker_symbol)\n",
    "tesla_data = ticker_data.history(period=\"max\")\n",
    "\n",
    "# Reset the index of tesla_data\n",
    "tesla_data.reset_index(inplace=True)\n",
    "\n",
    "# Download Tesla revenue data\n",
    "url = \"https://cf-courses-data.s3.us.cloud-object-storage.appdomain.cloud/IBMDeveloperSkillsNetwork-PY0220EN-SkillsNetwork/labs/project/revenue.htm\"\n",
    "response = requests.get(url)\n",
    "html_data = response.text\n",
    "soup = BeautifulSoup(html_data, 'html.parser')\n",
    "\n",
    "# Extract Tesla revenue data from the table\n",
    "tesla_revenue = pd.DataFrame(columns=[\"Date\", \"Revenue\"])\n",
    "table = soup.find_all(\"tbody\")[1]\n",
    "for row in table.find_all('tr'):\n",
    "    cols = row.find_all('td')\n",
    "    if len(cols) > 1:\n",
    "        date = cols[0].text.strip()\n",
    "        revenue = cols[1].text.strip().replace('$', '').replace(',', '')\n",
    "        tesla_revenue = tesla_revenue.append({\"Date\": date, \"Revenue\": revenue}, ignore_index=True)\n",
    "\n",
    "# Convert the Revenue column to numeric\n",
    "tesla_revenue[\"Revenue\"] = pd.to_numeric(tesla_revenue[\"Revenue\"])\n",
    "\n",
    "# Define the make_graph function\n",
    "def make_graph(stock_data, revenue_data, stock_name):\n",
    "    fig = make_subplots(specs=[[{\"secondary_y\": True}]])\n",
    "\n",
    "    fig.add_trace(\n",
    "        go.Scatter(x=stock_data['Date'], y=stock_data['Close'], name=\"Stock Price\"),\n",
    "        secondary_y=False,\n",
    "    )\n",
    "\n",
    "    fig.add_trace(\n",
    "        go.Scatter(x=revenue_data['Date'], y=revenue_data['Revenue'], name=\"Revenue\"),\n",
    "        secondary_y=True,\n",
    "    )\n",
    "\n",
    "    fig.update_layout(\n",
    "        title_text=f\"{stock_name} Stock Price and Revenue\"\n",
    "    )\n",
    "\n",
    "    fig.update_xaxes(title_text=\"Date\")\n",
    "    fig.update_yaxes(title_text=\"Stock Price\", secondary_y=False)\n",
    "    fig.update_yaxes(title_text=\"Revenue\", secondary_y=True)\n",
    "\n",
    "    fig.show()\n",
    "\n",
    "# Call the make_graph function\n",
    "make_graph(tesla_data, tesla_revenue, 'Tesla')"
   ]
  },
  {
   "cell_type": "markdown",
   "metadata": {},
   "source": [
    "## Question 6: Plot GameStop Stock Graph\n"
   ]
  },
  {
   "cell_type": "markdown",
   "metadata": {},
   "source": [
    "Use the `make_graph` function to graph the GameStop Stock Data, also provide a title for the graph. The structure to call the `make_graph` function is `make_graph(gme_data, gme_revenue, 'GameStop')`. Note the graph will only show data upto June 2021.\n"
   ]
  },
  {
   "cell_type": "markdown",
   "metadata": {},
   "source": [
    "<details><summary>Hint</summary>\n",
    "\n",
    "```\n",
    "\n",
    "You just need to invoke the make_graph function with the required parameter to print the graphs.The structure to call the `make_graph` function is `make_graph(gme_data, gme_revenue, 'GameStop')`\n",
    "\n",
    "```\n",
    "    \n",
    "</details>\n"
   ]
  },
  {
   "cell_type": "code",
   "execution_count": 84,
   "metadata": {},
   "outputs": [
    {
     "name": "stdout",
     "output_type": "stream",
     "text": [
      "GME: No data found for this date range, symbol may be delisted\n"
     ]
    },
    {
     "ename": "AttributeError",
     "evalue": "'DataFrame' object has no attribute 'append'",
     "output_type": "error",
     "traceback": [
      "\u001b[1;31m---------------------------------------------------------------------------\u001b[0m",
      "\u001b[1;31mAttributeError\u001b[0m                            Traceback (most recent call last)",
      "\u001b[1;32m~\\AppData\\Local\\Temp\\ipykernel_32568\\784012665.py\u001b[0m in \u001b[0;36m?\u001b[1;34m()\u001b[0m\n\u001b[0;32m     26\u001b[0m     \u001b[0mcols\u001b[0m \u001b[1;33m=\u001b[0m \u001b[0mrow\u001b[0m\u001b[1;33m.\u001b[0m\u001b[0mfind_all\u001b[0m\u001b[1;33m(\u001b[0m\u001b[1;34m'td'\u001b[0m\u001b[1;33m)\u001b[0m\u001b[1;33m\u001b[0m\u001b[1;33m\u001b[0m\u001b[0m\n\u001b[0;32m     27\u001b[0m     \u001b[1;32mif\u001b[0m \u001b[0mlen\u001b[0m\u001b[1;33m(\u001b[0m\u001b[0mcols\u001b[0m\u001b[1;33m)\u001b[0m \u001b[1;33m>\u001b[0m \u001b[1;36m1\u001b[0m\u001b[1;33m:\u001b[0m\u001b[1;33m\u001b[0m\u001b[1;33m\u001b[0m\u001b[0m\n\u001b[0;32m     28\u001b[0m         \u001b[0mdate\u001b[0m \u001b[1;33m=\u001b[0m \u001b[0mcols\u001b[0m\u001b[1;33m[\u001b[0m\u001b[1;36m0\u001b[0m\u001b[1;33m]\u001b[0m\u001b[1;33m.\u001b[0m\u001b[0mtext\u001b[0m\u001b[1;33m.\u001b[0m\u001b[0mstrip\u001b[0m\u001b[1;33m(\u001b[0m\u001b[1;33m)\u001b[0m\u001b[1;33m\u001b[0m\u001b[1;33m\u001b[0m\u001b[0m\n\u001b[0;32m     29\u001b[0m         \u001b[0mrevenue\u001b[0m \u001b[1;33m=\u001b[0m \u001b[0mcols\u001b[0m\u001b[1;33m[\u001b[0m\u001b[1;36m1\u001b[0m\u001b[1;33m]\u001b[0m\u001b[1;33m.\u001b[0m\u001b[0mtext\u001b[0m\u001b[1;33m.\u001b[0m\u001b[0mstrip\u001b[0m\u001b[1;33m(\u001b[0m\u001b[1;33m)\u001b[0m\u001b[1;33m.\u001b[0m\u001b[0mreplace\u001b[0m\u001b[1;33m(\u001b[0m\u001b[1;34m'$'\u001b[0m\u001b[1;33m,\u001b[0m \u001b[1;34m''\u001b[0m\u001b[1;33m)\u001b[0m\u001b[1;33m.\u001b[0m\u001b[0mreplace\u001b[0m\u001b[1;33m(\u001b[0m\u001b[1;34m','\u001b[0m\u001b[1;33m,\u001b[0m \u001b[1;34m''\u001b[0m\u001b[1;33m)\u001b[0m\u001b[1;33m\u001b[0m\u001b[1;33m\u001b[0m\u001b[0m\n\u001b[1;32m---> 30\u001b[1;33m         \u001b[0mgme_revenue\u001b[0m \u001b[1;33m=\u001b[0m \u001b[0mgme_revenue\u001b[0m\u001b[1;33m.\u001b[0m\u001b[0mappend\u001b[0m\u001b[1;33m(\u001b[0m\u001b[1;33m{\u001b[0m\u001b[1;34m\"Date\"\u001b[0m\u001b[1;33m:\u001b[0m \u001b[0mdate\u001b[0m\u001b[1;33m,\u001b[0m \u001b[1;34m\"Revenue\"\u001b[0m\u001b[1;33m:\u001b[0m \u001b[0mrevenue\u001b[0m\u001b[1;33m}\u001b[0m\u001b[1;33m,\u001b[0m \u001b[0mignore_index\u001b[0m\u001b[1;33m=\u001b[0m\u001b[1;32mTrue\u001b[0m\u001b[1;33m)\u001b[0m\u001b[1;33m\u001b[0m\u001b[1;33m\u001b[0m\u001b[0m\n\u001b[0m\u001b[0;32m     31\u001b[0m \u001b[1;33m\u001b[0m\u001b[0m\n\u001b[0;32m     32\u001b[0m \u001b[1;31m# Convert the Revenue column to numeric\u001b[0m\u001b[1;33m\u001b[0m\u001b[1;33m\u001b[0m\u001b[0m\n\u001b[0;32m     33\u001b[0m \u001b[0mgme_revenue\u001b[0m\u001b[1;33m[\u001b[0m\u001b[1;34m\"Revenue\"\u001b[0m\u001b[1;33m]\u001b[0m \u001b[1;33m=\u001b[0m \u001b[0mpd\u001b[0m\u001b[1;33m.\u001b[0m\u001b[0mto_numeric\u001b[0m\u001b[1;33m(\u001b[0m\u001b[0mgme_revenue\u001b[0m\u001b[1;33m[\u001b[0m\u001b[1;34m\"Revenue\"\u001b[0m\u001b[1;33m]\u001b[0m\u001b[1;33m)\u001b[0m\u001b[1;33m\u001b[0m\u001b[1;33m\u001b[0m\u001b[0m\n",
      "\u001b[1;32m~\\anaconda3\\Lib\\site-packages\\pandas\\core\\generic.py\u001b[0m in \u001b[0;36m?\u001b[1;34m(self, name)\u001b[0m\n\u001b[0;32m   5985\u001b[0m \u001b[1;33m\u001b[0m\u001b[0m\n\u001b[0;32m   5986\u001b[0m         \u001b[0mIf\u001b[0m \u001b[0mn\u001b[0m \u001b[1;32mis\u001b[0m \u001b[0mlarger\u001b[0m \u001b[0mthan\u001b[0m \u001b[0mthe\u001b[0m \u001b[0mnumber\u001b[0m \u001b[0mof\u001b[0m \u001b[0mrows\u001b[0m\u001b[1;33m,\u001b[0m \u001b[0mthis\u001b[0m \u001b[0mfunction\u001b[0m \u001b[0mreturns\u001b[0m \u001b[0mall\u001b[0m \u001b[0mrows\u001b[0m\u001b[1;33m.\u001b[0m\u001b[1;33m\u001b[0m\u001b[1;33m\u001b[0m\u001b[0m\n\u001b[0;32m   5987\u001b[0m \u001b[1;33m\u001b[0m\u001b[0m\n\u001b[0;32m   5988\u001b[0m         \u001b[0mParameters\u001b[0m\u001b[1;33m\u001b[0m\u001b[1;33m\u001b[0m\u001b[0m\n\u001b[1;32m-> 5989\u001b[1;33m         \u001b[1;33m-\u001b[0m\u001b[1;33m-\u001b[0m\u001b[1;33m-\u001b[0m\u001b[1;33m-\u001b[0m\u001b[1;33m-\u001b[0m\u001b[1;33m-\u001b[0m\u001b[1;33m-\u001b[0m\u001b[1;33m-\u001b[0m\u001b[1;33m-\u001b[0m\u001b[1;33m-\u001b[0m\u001b[1;33m\u001b[0m\u001b[1;33m\u001b[0m\u001b[0m\n\u001b[0m\u001b[0;32m   5990\u001b[0m         \u001b[0mn\u001b[0m \u001b[1;33m:\u001b[0m \u001b[0mint\u001b[0m\u001b[1;33m,\u001b[0m \u001b[0mdefault\u001b[0m \u001b[1;36m5\u001b[0m\u001b[1;33m\u001b[0m\u001b[1;33m\u001b[0m\u001b[0m\n\u001b[0;32m   5991\u001b[0m             \u001b[0mNumber\u001b[0m \u001b[0mof\u001b[0m \u001b[0mrows\u001b[0m \u001b[0mto\u001b[0m \u001b[0mselect\u001b[0m\u001b[1;33m.\u001b[0m\u001b[1;33m\u001b[0m\u001b[1;33m\u001b[0m\u001b[0m\n\u001b[0;32m   5992\u001b[0m \u001b[1;33m\u001b[0m\u001b[0m\n",
      "\u001b[1;31mAttributeError\u001b[0m: 'DataFrame' object has no attribute 'append'"
     ]
    }
   ],
   "source": [
    "import yfinance as yf\n",
    "import pandas as pd\n",
    "import requests\n",
    "from bs4 import BeautifulSoup\n",
    "import plotly.graph_objects as go\n",
    "from plotly.subplots import make_subplots\n",
    "\n",
    "# Fetch GameStop stock data\n",
    "ticker_symbol = \"GME\"\n",
    "ticker_data = yf.Ticker(ticker_symbol)\n",
    "gme_data = ticker_data.history(start=\"2010-01-01\", end=\"2021-06-30\")\n",
    "\n",
    "# Reset the index of gme_data\n",
    "gme_data.reset_index(inplace=True)\n",
    "\n",
    "# Download GameStop revenue data\n",
    "url = \"https://cf-courses-data.s3.us.cloud-object-storage.appdomain.cloud/IBMDeveloperSkillsNetwork-PY0220EN-SkillsNetwork/labs/project/stock.html\"\n",
    "response = requests.get(url)\n",
    "html_data_2 = response.text\n",
    "soup = BeautifulSoup(html_data_2, 'html.parser')\n",
    "\n",
    "# Extract GameStop revenue data from the table\n",
    "gme_revenue = pd.DataFrame(columns=[\"Date\", \"Revenue\"])\n",
    "table = soup.find_all(\"tbody\")[1]\n",
    "for row in table.find_all('tr'):\n",
    "    cols = row.find_all('td')\n",
    "    if len(cols) > 1:\n",
    "        date = cols[0].text.strip()\n",
    "        revenue = cols[1].text.strip().replace('$', '').replace(',', '')\n",
    "        gme_revenue = gme_revenue.append({\"Date\": date, \"Revenue\": revenue}, ignore_index=True)\n",
    "\n",
    "# Convert the Revenue column to numeric\n",
    "gme_revenue[\"Revenue\"] = pd.to_numeric(gme_revenue[\"Revenue\"])\n",
    "\n",
    "# Define the make_graph function\n",
    "def make_graph(stock_data, revenue_data, stock_name):\n",
    "    fig = make_subplots(specs=[[{\"secondary_y\": True}]])\n",
    "\n",
    "    fig.add_trace(\n",
    "        go.Scatter(x=stock_data['Date'], y=stock_data['Close'], name=\"Stock Price\"),\n",
    "        secondary_y=False,\n",
    "    )\n",
    "\n",
    "    fig.add_trace(\n",
    "        go.Scatter(x=revenue_data['Date'], y=revenue_data['Revenue'], name=\"Revenue\"),\n",
    "        secondary_y=True,\n",
    "    )\n",
    "\n",
    "    fig.update_layout(\n",
    "        title_text=f\"{stock_name} Stock Price and Revenue\"\n",
    "    )\n",
    "\n",
    "    fig.update_xaxes(title_text=\"Date\")\n",
    "    fig.update_yaxes(title_text=\"Stock Price\", secondary_y=False)\n",
    "    fig.update_yaxes(title_text=\"Revenue\", secondary_y=True)\n",
    "\n",
    "    fig.show()\n",
    "\n",
    "# Call the make_graph function\n",
    "make_graph(gme_data, gme_revenue, 'GameStop')"
   ]
  },
  {
   "cell_type": "markdown",
   "metadata": {},
   "source": [
    "<h2>About the Authors:</h2> \n",
    "\n",
    "<a href=\"https://www.linkedin.com/in/joseph-s-50398b136/\">Joseph Santarcangelo</a> has a PhD in Electrical Engineering, his research focused on using machine learning, signal processing, and computer vision to determine how videos impact human cognition. Joseph has been working for IBM since he completed his PhD.\n",
    "\n",
    "Azim Hirjani\n"
   ]
  },
  {
   "cell_type": "markdown",
   "metadata": {},
   "source": [
    "## Change Log\n",
    "\n",
    "| Date (YYYY-MM-DD) | Version | Changed By    | Change Description        |\n",
    "| ----------------- | ------- | ------------- | ------------------------- |\n",
    "| 2022-02-28        | 1.2     | Lakshmi Holla | Changed the URL of GameStop |\n",
    "| 2020-11-10        | 1.1     | Malika Singla | Deleted the Optional part |\n",
    "| 2020-08-27        | 1.0     | Malika Singla | Added lab to GitLab       |\n",
    "\n",
    "<hr>\n",
    "\n",
    "## <h3 align=\"center\"> © IBM Corporation 2020. All rights reserved. <h3/>\n",
    "\n",
    "<p>\n"
   ]
  }
 ],
 "metadata": {
  "kernelspec": {
   "display_name": "Python 3 (ipykernel)",
   "language": "python",
   "name": "python3"
  },
  "language_info": {
   "codemirror_mode": {
    "name": "ipython",
    "version": 3
   },
   "file_extension": ".py",
   "mimetype": "text/x-python",
   "name": "python",
   "nbconvert_exporter": "python",
   "pygments_lexer": "ipython3",
   "version": "3.11.7"
  },
  "prev_pub_hash": "39a78a77cc568f481ff822a398063bacdd4e567b2b1e8a39dc1b7cf3b29bc96b"
 },
 "nbformat": 4,
 "nbformat_minor": 4
}
